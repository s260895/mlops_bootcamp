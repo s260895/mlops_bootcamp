{
 "cells": [
  {
   "cell_type": "code",
   "execution_count": 2,
   "metadata": {},
   "outputs": [
    {
     "name": "stderr",
     "output_type": "stream",
     "text": [
      "Intel(R) Extension for Scikit-learn* enabled (https://github.com/intel/scikit-learn-intelex)\n"
     ]
    }
   ],
   "source": [
    "# data manipulation and storage\n",
    "import pandas as pd\n",
    "import numpy as np\n",
    "\n",
    "# plotting and graphs\n",
    "import seaborn as sns\n",
    "import matplotlib.pyplot as plt\n",
    "\n",
    "# data preprocessing\n",
    "# from sklearn.feature_extraction import DictVectorizer\n",
    "from sklearn.preprocessing import StandardScaler\n",
    "from sklearn.impute import SimpleImputer\n",
    "from sklearn.preprocessing import OneHotEncoder\n",
    "\n",
    "# models\n",
    "# from sklearn.linear_model import LinearRegression\n",
    "# from sklearn.linear_model import Lasso\n",
    "# from sklearn.linear_model import Ridge\n",
    "# import xgboost as xgb\n",
    "from sklearn.ensemble import GradientBoostingRegressor\n",
    "\n",
    "# model performance metrics\n",
    "from sklearn.metrics import mean_squared_error\n",
    "\n",
    "# saving model to file\n",
    "import pickle\n",
    "\n",
    "# mlflow for experiment tracking\n",
    "import mlflow\n",
    "\n",
    "# hyper-parameter optimization\n",
    "from hyperopt import fmin, tpe, hp, STATUS_OK, Trials\n",
    "from hyperopt.pyll import scope\n",
    "\n",
    "# sklearn pipeline creation\n",
    "from sklearn.base import BaseEstimator, TransformerMixin\n",
    "from sklearn.utils.validation import check_is_fitted\n",
    "\n",
    "from sklearn.pipeline import Pipeline\n",
    "from sklearn.compose import ColumnTransformer\n",
    "\n",
    "# misc utilities\n",
    "import copy\n",
    "\n",
    "# intel sklearn optimization library\n",
    "from sklearnex import patch_sklearn\n",
    "patch_sklearn()\n",
    "\n"
   ]
  },
  {
   "cell_type": "code",
   "execution_count": null,
   "metadata": {},
   "outputs": [],
   "source": [
    "# train_path = 'data/green_tripdata_2021-01.parquet'\n",
    "# val_path = 'data/green_tripdata_2021-01.parquet'\n",
    "# df_train = pd.read_parquet(train_path)\n",
    "# df_train"
   ]
  },
  {
   "cell_type": "code",
   "execution_count": 3,
   "metadata": {},
   "outputs": [],
   "source": [
    "def cleaned_train_and_target(df,clean=True):\n",
    "    \n",
    "    # create concatenated categorical feature\n",
    "    df['PU_DO_pair'] = df['PULocationID'].astype(str) + '_' + df['DOLocationID'].astype(str)                \n",
    "    # create target feature\n",
    "    df['duration'] = df['lpep_dropoff_datetime'] - df['lpep_pickup_datetime']\n",
    "    df['duration'] = df['duration'].apply(lambda td: td.total_seconds()/60)\n",
    "\n",
    "    if clean == True:\n",
    "        # filter out rows based on various conditions\n",
    "        df = df[(df['duration'] >= 1) & (df['duration'] <= 60)]\n",
    "        df = df[(df['trip_distance'] > 1)&(df['trip_distance'] < 25)]\n",
    "        df = df[(df['total_amount'] > 1)&(df['total_amount'] < 150)]\n",
    "        df = df[df['passenger_count'] > 0]  \n",
    " \n",
    "    y = df['duration']\n",
    "    X = df[['PU_DO_pair','trip_distance','total_amount']]\n",
    "    return X,y\n"
   ]
  },
  {
   "cell_type": "code",
   "execution_count": 4,
   "metadata": {},
   "outputs": [],
   "source": [
    "def initialize_regression_model(params,type='gradientbooster'):\n",
    "\n",
    "    categorical = ['PU_DO_pair']\n",
    "    numerical = ['trip_distance','fare_amount']\n",
    "\n",
    "    numeric_pipeline = Pipeline(steps=[\n",
    "        ('impute', SimpleImputer(strategy='mean')),\n",
    "        ('scale', StandardScaler())\n",
    "    ])\n",
    "    categorical_pipeline = Pipeline(steps=[\n",
    "        ('impute', SimpleImputer(strategy='most_frequent')),\n",
    "        ('one-hot', OneHotEncoder(handle_unknown='ignore', sparse=False))\n",
    "    ])\n",
    "\n",
    "\n",
    "    preprocessor_pipeline = ColumnTransformer(transformers=[\n",
    "        ('numeric', numeric_pipeline, numerical),\n",
    "        ('categoric', categorical_pipeline, categorical)\n",
    "    ])\n",
    "\n",
    "    if type == 'gradientbooster':\n",
    "        regressor = GradientBoostingRegressor(**params)\n",
    "    else:\n",
    "        regressor = None\n",
    "\n",
    "    regression_model = Pipeline(steps=[\n",
    "        ('preprocess', preprocessor_pipeline),\n",
    "        ('model', regressor)\n",
    "    ])\n",
    "\n",
    "    return regression_model\n"
   ]
  },
  {
   "cell_type": "code",
   "execution_count": 5,
   "metadata": {},
   "outputs": [],
   "source": [
    "def hyperparameter_optimizer(\n",
    "    X_train,\n",
    "    y_train,\n",
    "    X_val,\n",
    "    y_val\n",
    "):\n",
    "\n",
    "    # define hyper-parameter search space\n",
    "    search_space = {\n",
    "        # 'n_estimators':hp.choice('n_estimators',np.arange(10,101,1)),\n",
    "        'learning_rate':hp.loguniform('learning_rate',-3,0),\n",
    "        # 'min_samples_split':hp.loguniform('min_child_weight',-4,0),\n",
    "        # 'max_depth':scope.int(hp.quniform('max_depth',5,100,5)),        \n",
    "        'random_state':42\n",
    "    }\n",
    "\n",
    "    # define objective function\n",
    "    def objective(params):\n",
    "        \n",
    "        with mlflow.start_run():\n",
    "            mlflow.set_tag('model','gradientboostingregressor')\n",
    "            # mlflow.log_params(params)\n",
    "            mlflow.sklearn.autolog()\n",
    "            pipe = initialize_regression_model(params=params,type='gradientbooster')\n",
    "            pipe.fit(X_train,y_train)\n",
    "            y_pred = pipe.predict(X_val)\n",
    "            rmse = mean_squared_error(y_val,y_pred,squared=False)\n",
    "            mlflow.log_metric('validation_rmse',rmse)\n",
    "            # mlflow.log_artifact(scaler_path,artifact_path=\"preprocessor\")\n",
    "            # mlflow.log_artifact(vectorizer_path,artifact_path=\"preprocessor\")\n",
    "            # mlflow.xgboost.log_model(xgb_model,artifact_path=\"models_mlflow\")\n",
    "        \n",
    "\n",
    "        return {'loss':rmse,'status':STATUS_OK}\n",
    "\n",
    "\n",
    "    # Perform hyper-parameter optimization\n",
    "    best_result = fmin(\n",
    "        fn = objective,\n",
    "        space = search_space,\n",
    "        algo = tpe.suggest,\n",
    "        max_evals=50,\n",
    "        trials = Trials()\n",
    "    )   \n",
    "\n",
    "    return "
   ]
  },
  {
   "cell_type": "code",
   "execution_count": 6,
   "metadata": {},
   "outputs": [
    {
     "name": "stdout",
     "output_type": "stream",
     "text": [
      "  0%|          | 0/50 [00:00<?, ?trial/s, best loss=?]"
     ]
    },
    {
     "name": "stderr",
     "output_type": "stream",
     "text": [
      "2022/10/22 16:32:15 WARNING mlflow.utils: Truncated the value of the key `steps`. Truncated value: `[('preprocess', ColumnTransformer(transformers=[('numeric',\n",
      "                                 Pipeline(steps=[('impute', SimpleImputer()),\n",
      "                                                 ('scale', StandardScaler())]),\n",
      "                                 ['trip_distance', 'fare_amount']),\n",
      "                                ('categoric',\n",
      "                                 Pipeline(steps=[('impute',\n",
      "                                                  SimpleImputer(strategy='most_frequent')),\n",
      "             ...`\n",
      "\n",
      "2022/10/22 16:32:15 WARNING mlflow.utils: Truncated the value of the key `preprocess`. Truncated value: `ColumnTransformer(transformers=[('numeric',\n",
      "                                 Pipeline(steps=[('impute', SimpleImputer()),\n",
      "                                                 ('scale', StandardScaler())]),\n",
      "                                 ['trip_distance', 'fare_amount']),\n",
      "                                ('categoric',\n",
      "                                 Pipeline(steps=[('impute',\n",
      "                                                  SimpleImputer(strategy='most_frequent')),\n",
      "                             ...`\n",
      "\n",
      "2022/10/22 16:37:05 WARNING mlflow.utils.autologging_utils: MLflow autologging encountered a warning: \"/home/ub/.local/lib/python3.10/site-packages/_distutils_hack/__init__.py:33: UserWarning: Setuptools is replacing distutils.\"\n",
      "\n"
     ]
    },
    {
     "name": "stdout",
     "output_type": "stream",
     "text": [
      "  2%|▏         | 1/50 [04:54<4:00:34, 294.58s/trial, best loss: 2.6771038832759655]"
     ]
    },
    {
     "name": "stderr",
     "output_type": "stream",
     "text": [
      "2022/10/22 16:37:06 WARNING mlflow.utils: Truncated the value of the key `steps`. Truncated value: `[('preprocess', ColumnTransformer(transformers=[('numeric',\n",
      "                                 Pipeline(steps=[('impute', SimpleImputer()),\n",
      "                                                 ('scale', StandardScaler())]),\n",
      "                                 ['trip_distance', 'fare_amount']),\n",
      "                                ('categoric',\n",
      "                                 Pipeline(steps=[('impute',\n",
      "                                                  SimpleImputer(strategy='most_frequent')),\n",
      "             ...`\n",
      "\n",
      "2022/10/22 16:37:06 WARNING mlflow.utils: Truncated the value of the key `preprocess`. Truncated value: `ColumnTransformer(transformers=[('numeric',\n",
      "                                 Pipeline(steps=[('impute', SimpleImputer()),\n",
      "                                                 ('scale', StandardScaler())]),\n",
      "                                 ['trip_distance', 'fare_amount']),\n",
      "                                ('categoric',\n",
      "                                 Pipeline(steps=[('impute',\n",
      "                                                  SimpleImputer(strategy='most_frequent')),\n",
      "                             ...`\n",
      "\n"
     ]
    },
    {
     "name": "stdout",
     "output_type": "stream",
     "text": [
      "  4%|▍         | 2/50 [09:56<3:59:10, 298.97s/trial, best loss: 2.6771038832759655]"
     ]
    },
    {
     "name": "stderr",
     "output_type": "stream",
     "text": [
      "2022/10/22 16:42:08 WARNING mlflow.utils: Truncated the value of the key `steps`. Truncated value: `[('preprocess', ColumnTransformer(transformers=[('numeric',\n",
      "                                 Pipeline(steps=[('impute', SimpleImputer()),\n",
      "                                                 ('scale', StandardScaler())]),\n",
      "                                 ['trip_distance', 'fare_amount']),\n",
      "                                ('categoric',\n",
      "                                 Pipeline(steps=[('impute',\n",
      "                                                  SimpleImputer(strategy='most_frequent')),\n",
      "             ...`\n",
      "\n",
      "2022/10/22 16:42:08 WARNING mlflow.utils: Truncated the value of the key `preprocess`. Truncated value: `ColumnTransformer(transformers=[('numeric',\n",
      "                                 Pipeline(steps=[('impute', SimpleImputer()),\n",
      "                                                 ('scale', StandardScaler())]),\n",
      "                                 ['trip_distance', 'fare_amount']),\n",
      "                                ('categoric',\n",
      "                                 Pipeline(steps=[('impute',\n",
      "                                                  SimpleImputer(strategy='most_frequent')),\n",
      "                             ...`\n",
      "\n"
     ]
    },
    {
     "name": "stdout",
     "output_type": "stream",
     "text": [
      "  6%|▌         | 3/50 [15:29<4:06:18, 314.44s/trial, best loss: 2.543704328834773] "
     ]
    },
    {
     "name": "stderr",
     "output_type": "stream",
     "text": [
      "2022/10/22 16:47:41 WARNING mlflow.utils: Truncated the value of the key `steps`. Truncated value: `[('preprocess', ColumnTransformer(transformers=[('numeric',\n",
      "                                 Pipeline(steps=[('impute', SimpleImputer()),\n",
      "                                                 ('scale', StandardScaler())]),\n",
      "                                 ['trip_distance', 'fare_amount']),\n",
      "                                ('categoric',\n",
      "                                 Pipeline(steps=[('impute',\n",
      "                                                  SimpleImputer(strategy='most_frequent')),\n",
      "             ...`\n",
      "\n",
      "2022/10/22 16:47:41 WARNING mlflow.utils: Truncated the value of the key `preprocess`. Truncated value: `ColumnTransformer(transformers=[('numeric',\n",
      "                                 Pipeline(steps=[('impute', SimpleImputer()),\n",
      "                                                 ('scale', StandardScaler())]),\n",
      "                                 ['trip_distance', 'fare_amount']),\n",
      "                                ('categoric',\n",
      "                                 Pipeline(steps=[('impute',\n",
      "                                                  SimpleImputer(strategy='most_frequent')),\n",
      "                             ...`\n",
      "\n"
     ]
    },
    {
     "name": "stdout",
     "output_type": "stream",
     "text": [
      "  8%|▊         | 4/50 [21:09<4:08:54, 324.67s/trial, best loss: 2.247812054505768]"
     ]
    },
    {
     "name": "stderr",
     "output_type": "stream",
     "text": [
      "2022/10/22 16:53:21 WARNING mlflow.utils: Truncated the value of the key `steps`. Truncated value: `[('preprocess', ColumnTransformer(transformers=[('numeric',\n",
      "                                 Pipeline(steps=[('impute', SimpleImputer()),\n",
      "                                                 ('scale', StandardScaler())]),\n",
      "                                 ['trip_distance', 'fare_amount']),\n",
      "                                ('categoric',\n",
      "                                 Pipeline(steps=[('impute',\n",
      "                                                  SimpleImputer(strategy='most_frequent')),\n",
      "             ...`\n",
      "\n",
      "2022/10/22 16:53:21 WARNING mlflow.utils: Truncated the value of the key `preprocess`. Truncated value: `ColumnTransformer(transformers=[('numeric',\n",
      "                                 Pipeline(steps=[('impute', SimpleImputer()),\n",
      "                                                 ('scale', StandardScaler())]),\n",
      "                                 ['trip_distance', 'fare_amount']),\n",
      "                                ('categoric',\n",
      "                                 Pipeline(steps=[('impute',\n",
      "                                                  SimpleImputer(strategy='most_frequent')),\n",
      "                             ...`\n",
      "\n"
     ]
    },
    {
     "name": "stdout",
     "output_type": "stream",
     "text": [
      " 10%|█         | 5/50 [26:48<4:07:15, 329.68s/trial, best loss: 2.247812054505768]"
     ]
    },
    {
     "name": "stderr",
     "output_type": "stream",
     "text": [
      "2022/10/22 16:59:00 WARNING mlflow.utils: Truncated the value of the key `steps`. Truncated value: `[('preprocess', ColumnTransformer(transformers=[('numeric',\n",
      "                                 Pipeline(steps=[('impute', SimpleImputer()),\n",
      "                                                 ('scale', StandardScaler())]),\n",
      "                                 ['trip_distance', 'fare_amount']),\n",
      "                                ('categoric',\n",
      "                                 Pipeline(steps=[('impute',\n",
      "                                                  SimpleImputer(strategy='most_frequent')),\n",
      "             ...`\n",
      "\n",
      "2022/10/22 16:59:00 WARNING mlflow.utils: Truncated the value of the key `preprocess`. Truncated value: `ColumnTransformer(transformers=[('numeric',\n",
      "                                 Pipeline(steps=[('impute', SimpleImputer()),\n",
      "                                                 ('scale', StandardScaler())]),\n",
      "                                 ['trip_distance', 'fare_amount']),\n",
      "                                ('categoric',\n",
      "                                 Pipeline(steps=[('impute',\n",
      "                                                  SimpleImputer(strategy='most_frequent')),\n",
      "                             ...`\n",
      "\n"
     ]
    },
    {
     "name": "stdout",
     "output_type": "stream",
     "text": [
      " 12%|█▏        | 6/50 [32:40<4:07:15, 337.18s/trial, best loss: 2.247812054505768]"
     ]
    },
    {
     "name": "stderr",
     "output_type": "stream",
     "text": [
      "2022/10/22 17:04:52 WARNING mlflow.utils: Truncated the value of the key `steps`. Truncated value: `[('preprocess', ColumnTransformer(transformers=[('numeric',\n",
      "                                 Pipeline(steps=[('impute', SimpleImputer()),\n",
      "                                                 ('scale', StandardScaler())]),\n",
      "                                 ['trip_distance', 'fare_amount']),\n",
      "                                ('categoric',\n",
      "                                 Pipeline(steps=[('impute',\n",
      "                                                  SimpleImputer(strategy='most_frequent')),\n",
      "             ...`\n",
      "\n",
      "2022/10/22 17:04:52 WARNING mlflow.utils: Truncated the value of the key `preprocess`. Truncated value: `ColumnTransformer(transformers=[('numeric',\n",
      "                                 Pipeline(steps=[('impute', SimpleImputer()),\n",
      "                                                 ('scale', StandardScaler())]),\n",
      "                                 ['trip_distance', 'fare_amount']),\n",
      "                                ('categoric',\n",
      "                                 Pipeline(steps=[('impute',\n",
      "                                                  SimpleImputer(strategy='most_frequent')),\n",
      "                             ...`\n",
      "\n"
     ]
    },
    {
     "name": "stdout",
     "output_type": "stream",
     "text": [
      " 14%|█▍        | 7/50 [38:39<4:06:55, 344.54s/trial, best loss: 2.0408301567742004]"
     ]
    },
    {
     "name": "stderr",
     "output_type": "stream",
     "text": [
      "2022/10/22 17:10:51 WARNING mlflow.utils: Truncated the value of the key `steps`. Truncated value: `[('preprocess', ColumnTransformer(transformers=[('numeric',\n",
      "                                 Pipeline(steps=[('impute', SimpleImputer()),\n",
      "                                                 ('scale', StandardScaler())]),\n",
      "                                 ['trip_distance', 'fare_amount']),\n",
      "                                ('categoric',\n",
      "                                 Pipeline(steps=[('impute',\n",
      "                                                  SimpleImputer(strategy='most_frequent')),\n",
      "             ...`\n",
      "\n",
      "2022/10/22 17:10:51 WARNING mlflow.utils: Truncated the value of the key `preprocess`. Truncated value: `ColumnTransformer(transformers=[('numeric',\n",
      "                                 Pipeline(steps=[('impute', SimpleImputer()),\n",
      "                                                 ('scale', StandardScaler())]),\n",
      "                                 ['trip_distance', 'fare_amount']),\n",
      "                                ('categoric',\n",
      "                                 Pipeline(steps=[('impute',\n",
      "                                                  SimpleImputer(strategy='most_frequent')),\n",
      "                             ...`\n",
      "\n"
     ]
    },
    {
     "name": "stdout",
     "output_type": "stream",
     "text": [
      " 16%|█▌        | 8/50 [44:32<4:03:01, 347.18s/trial, best loss: 2.0408301567742004]"
     ]
    },
    {
     "name": "stderr",
     "output_type": "stream",
     "text": [
      "2022/10/22 17:16:44 WARNING mlflow.utils: Truncated the value of the key `steps`. Truncated value: `[('preprocess', ColumnTransformer(transformers=[('numeric',\n",
      "                                 Pipeline(steps=[('impute', SimpleImputer()),\n",
      "                                                 ('scale', StandardScaler())]),\n",
      "                                 ['trip_distance', 'fare_amount']),\n",
      "                                ('categoric',\n",
      "                                 Pipeline(steps=[('impute',\n",
      "                                                  SimpleImputer(strategy='most_frequent')),\n",
      "             ...`\n",
      "\n",
      "2022/10/22 17:16:44 WARNING mlflow.utils: Truncated the value of the key `preprocess`. Truncated value: `ColumnTransformer(transformers=[('numeric',\n",
      "                                 Pipeline(steps=[('impute', SimpleImputer()),\n",
      "                                                 ('scale', StandardScaler())]),\n",
      "                                 ['trip_distance', 'fare_amount']),\n",
      "                                ('categoric',\n",
      "                                 Pipeline(steps=[('impute',\n",
      "                                                  SimpleImputer(strategy='most_frequent')),\n",
      "                             ...`\n",
      "\n"
     ]
    },
    {
     "name": "stdout",
     "output_type": "stream",
     "text": [
      " 18%|█▊        | 9/50 [50:34<4:00:21, 351.75s/trial, best loss: 2.0408301567742004]"
     ]
    },
    {
     "name": "stderr",
     "output_type": "stream",
     "text": [
      "2022/10/22 17:22:46 WARNING mlflow.utils: Truncated the value of the key `steps`. Truncated value: `[('preprocess', ColumnTransformer(transformers=[('numeric',\n",
      "                                 Pipeline(steps=[('impute', SimpleImputer()),\n",
      "                                                 ('scale', StandardScaler())]),\n",
      "                                 ['trip_distance', 'fare_amount']),\n",
      "                                ('categoric',\n",
      "                                 Pipeline(steps=[('impute',\n",
      "                                                  SimpleImputer(strategy='most_frequent')),\n",
      "             ...`\n",
      "\n",
      "2022/10/22 17:22:46 WARNING mlflow.utils: Truncated the value of the key `preprocess`. Truncated value: `ColumnTransformer(transformers=[('numeric',\n",
      "                                 Pipeline(steps=[('impute', SimpleImputer()),\n",
      "                                                 ('scale', StandardScaler())]),\n",
      "                                 ['trip_distance', 'fare_amount']),\n",
      "                                ('categoric',\n",
      "                                 Pipeline(steps=[('impute',\n",
      "                                                  SimpleImputer(strategy='most_frequent')),\n",
      "                             ...`\n",
      "\n"
     ]
    },
    {
     "name": "stdout",
     "output_type": "stream",
     "text": [
      " 20%|██        | 10/50 [56:05<3:50:19, 345.50s/trial, best loss: 2.0408301567742004]"
     ]
    },
    {
     "name": "stderr",
     "output_type": "stream",
     "text": [
      "2022/10/22 17:28:17 WARNING mlflow.utils: Truncated the value of the key `steps`. Truncated value: `[('preprocess', ColumnTransformer(transformers=[('numeric',\n",
      "                                 Pipeline(steps=[('impute', SimpleImputer()),\n",
      "                                                 ('scale', StandardScaler())]),\n",
      "                                 ['trip_distance', 'fare_amount']),\n",
      "                                ('categoric',\n",
      "                                 Pipeline(steps=[('impute',\n",
      "                                                  SimpleImputer(strategy='most_frequent')),\n",
      "             ...`\n",
      "\n",
      "2022/10/22 17:28:17 WARNING mlflow.utils: Truncated the value of the key `preprocess`. Truncated value: `ColumnTransformer(transformers=[('numeric',\n",
      "                                 Pipeline(steps=[('impute', SimpleImputer()),\n",
      "                                                 ('scale', StandardScaler())]),\n",
      "                                 ['trip_distance', 'fare_amount']),\n",
      "                                ('categoric',\n",
      "                                 Pipeline(steps=[('impute',\n",
      "                                                  SimpleImputer(strategy='most_frequent')),\n",
      "                             ...`\n",
      "\n"
     ]
    },
    {
     "name": "stdout",
     "output_type": "stream",
     "text": [
      " 22%|██▏       | 11/50 [1:01:53<3:45:02, 346.22s/trial, best loss: 2.0408301567742004]"
     ]
    },
    {
     "name": "stderr",
     "output_type": "stream",
     "text": [
      "2022/10/22 17:34:05 WARNING mlflow.utils: Truncated the value of the key `steps`. Truncated value: `[('preprocess', ColumnTransformer(transformers=[('numeric',\n",
      "                                 Pipeline(steps=[('impute', SimpleImputer()),\n",
      "                                                 ('scale', StandardScaler())]),\n",
      "                                 ['trip_distance', 'fare_amount']),\n",
      "                                ('categoric',\n",
      "                                 Pipeline(steps=[('impute',\n",
      "                                                  SimpleImputer(strategy='most_frequent')),\n",
      "             ...`\n",
      "\n",
      "2022/10/22 17:34:05 WARNING mlflow.utils: Truncated the value of the key `preprocess`. Truncated value: `ColumnTransformer(transformers=[('numeric',\n",
      "                                 Pipeline(steps=[('impute', SimpleImputer()),\n",
      "                                                 ('scale', StandardScaler())]),\n",
      "                                 ['trip_distance', 'fare_amount']),\n",
      "                                ('categoric',\n",
      "                                 Pipeline(steps=[('impute',\n",
      "                                                  SimpleImputer(strategy='most_frequent')),\n",
      "                             ...`\n",
      "\n"
     ]
    },
    {
     "name": "stdout",
     "output_type": "stream",
     "text": [
      " 24%|██▍       | 12/50 [1:07:43<3:39:57, 347.30s/trial, best loss: 1.9062409545629415]"
     ]
    },
    {
     "name": "stderr",
     "output_type": "stream",
     "text": [
      "2022/10/22 17:39:55 WARNING mlflow.utils: Truncated the value of the key `steps`. Truncated value: `[('preprocess', ColumnTransformer(transformers=[('numeric',\n",
      "                                 Pipeline(steps=[('impute', SimpleImputer()),\n",
      "                                                 ('scale', StandardScaler())]),\n",
      "                                 ['trip_distance', 'fare_amount']),\n",
      "                                ('categoric',\n",
      "                                 Pipeline(steps=[('impute',\n",
      "                                                  SimpleImputer(strategy='most_frequent')),\n",
      "             ...`\n",
      "\n",
      "2022/10/22 17:39:55 WARNING mlflow.utils: Truncated the value of the key `preprocess`. Truncated value: `ColumnTransformer(transformers=[('numeric',\n",
      "                                 Pipeline(steps=[('impute', SimpleImputer()),\n",
      "                                                 ('scale', StandardScaler())]),\n",
      "                                 ['trip_distance', 'fare_amount']),\n",
      "                                ('categoric',\n",
      "                                 Pipeline(steps=[('impute',\n",
      "                                                  SimpleImputer(strategy='most_frequent')),\n",
      "                             ...`\n",
      "\n"
     ]
    },
    {
     "name": "stdout",
     "output_type": "stream",
     "text": [
      " 26%|██▌       | 13/50 [1:13:27<3:33:27, 346.16s/trial, best loss: 1.9062409545629415]"
     ]
    },
    {
     "name": "stderr",
     "output_type": "stream",
     "text": [
      "2022/10/22 17:45:39 WARNING mlflow.utils: Truncated the value of the key `steps`. Truncated value: `[('preprocess', ColumnTransformer(transformers=[('numeric',\n",
      "                                 Pipeline(steps=[('impute', SimpleImputer()),\n",
      "                                                 ('scale', StandardScaler())]),\n",
      "                                 ['trip_distance', 'fare_amount']),\n",
      "                                ('categoric',\n",
      "                                 Pipeline(steps=[('impute',\n",
      "                                                  SimpleImputer(strategy='most_frequent')),\n",
      "             ...`\n",
      "\n",
      "2022/10/22 17:45:39 WARNING mlflow.utils: Truncated the value of the key `preprocess`. Truncated value: `ColumnTransformer(transformers=[('numeric',\n",
      "                                 Pipeline(steps=[('impute', SimpleImputer()),\n",
      "                                                 ('scale', StandardScaler())]),\n",
      "                                 ['trip_distance', 'fare_amount']),\n",
      "                                ('categoric',\n",
      "                                 Pipeline(steps=[('impute',\n",
      "                                                  SimpleImputer(strategy='most_frequent')),\n",
      "                             ...`\n",
      "\n"
     ]
    },
    {
     "name": "stdout",
     "output_type": "stream",
     "text": [
      " 28%|██▊       | 14/50 [1:19:19<3:28:52, 348.14s/trial, best loss: 1.9062409545629415]"
     ]
    },
    {
     "name": "stderr",
     "output_type": "stream",
     "text": [
      "2022/10/22 17:51:31 WARNING mlflow.utils: Truncated the value of the key `steps`. Truncated value: `[('preprocess', ColumnTransformer(transformers=[('numeric',\n",
      "                                 Pipeline(steps=[('impute', SimpleImputer()),\n",
      "                                                 ('scale', StandardScaler())]),\n",
      "                                 ['trip_distance', 'fare_amount']),\n",
      "                                ('categoric',\n",
      "                                 Pipeline(steps=[('impute',\n",
      "                                                  SimpleImputer(strategy='most_frequent')),\n",
      "             ...`\n",
      "\n",
      "2022/10/22 17:51:31 WARNING mlflow.utils: Truncated the value of the key `preprocess`. Truncated value: `ColumnTransformer(transformers=[('numeric',\n",
      "                                 Pipeline(steps=[('impute', SimpleImputer()),\n",
      "                                                 ('scale', StandardScaler())]),\n",
      "                                 ['trip_distance', 'fare_amount']),\n",
      "                                ('categoric',\n",
      "                                 Pipeline(steps=[('impute',\n",
      "                                                  SimpleImputer(strategy='most_frequent')),\n",
      "                             ...`\n",
      "\n"
     ]
    },
    {
     "name": "stdout",
     "output_type": "stream",
     "text": [
      " 30%|███       | 15/50 [1:25:01<3:21:59, 346.28s/trial, best loss: 1.9062409545629415]"
     ]
    },
    {
     "name": "stderr",
     "output_type": "stream",
     "text": [
      "2022/10/22 17:57:13 WARNING mlflow.utils: Truncated the value of the key `steps`. Truncated value: `[('preprocess', ColumnTransformer(transformers=[('numeric',\n",
      "                                 Pipeline(steps=[('impute', SimpleImputer()),\n",
      "                                                 ('scale', StandardScaler())]),\n",
      "                                 ['trip_distance', 'fare_amount']),\n",
      "                                ('categoric',\n",
      "                                 Pipeline(steps=[('impute',\n",
      "                                                  SimpleImputer(strategy='most_frequent')),\n",
      "             ...`\n",
      "\n",
      "2022/10/22 17:57:13 WARNING mlflow.utils: Truncated the value of the key `preprocess`. Truncated value: `ColumnTransformer(transformers=[('numeric',\n",
      "                                 Pipeline(steps=[('impute', SimpleImputer()),\n",
      "                                                 ('scale', StandardScaler())]),\n",
      "                                 ['trip_distance', 'fare_amount']),\n",
      "                                ('categoric',\n",
      "                                 Pipeline(steps=[('impute',\n",
      "                                                  SimpleImputer(strategy='most_frequent')),\n",
      "                             ...`\n",
      "\n"
     ]
    },
    {
     "name": "stdout",
     "output_type": "stream",
     "text": [
      " 32%|███▏      | 16/50 [1:30:39<3:14:40, 343.56s/trial, best loss: 1.9062409545629415]"
     ]
    },
    {
     "name": "stderr",
     "output_type": "stream",
     "text": [
      "2022/10/22 18:02:50 WARNING mlflow.utils: Truncated the value of the key `steps`. Truncated value: `[('preprocess', ColumnTransformer(transformers=[('numeric',\n",
      "                                 Pipeline(steps=[('impute', SimpleImputer()),\n",
      "                                                 ('scale', StandardScaler())]),\n",
      "                                 ['trip_distance', 'fare_amount']),\n",
      "                                ('categoric',\n",
      "                                 Pipeline(steps=[('impute',\n",
      "                                                  SimpleImputer(strategy='most_frequent')),\n",
      "             ...`\n",
      "\n",
      "2022/10/22 18:02:50 WARNING mlflow.utils: Truncated the value of the key `preprocess`. Truncated value: `ColumnTransformer(transformers=[('numeric',\n",
      "                                 Pipeline(steps=[('impute', SimpleImputer()),\n",
      "                                                 ('scale', StandardScaler())]),\n",
      "                                 ['trip_distance', 'fare_amount']),\n",
      "                                ('categoric',\n",
      "                                 Pipeline(steps=[('impute',\n",
      "                                                  SimpleImputer(strategy='most_frequent')),\n",
      "                             ...`\n",
      "\n"
     ]
    },
    {
     "name": "stdout",
     "output_type": "stream",
     "text": [
      " 34%|███▍      | 17/50 [1:36:31<3:10:23, 346.16s/trial, best loss: 1.9062409545629415]"
     ]
    },
    {
     "name": "stderr",
     "output_type": "stream",
     "text": [
      "2022/10/22 18:08:43 WARNING mlflow.utils: Truncated the value of the key `steps`. Truncated value: `[('preprocess', ColumnTransformer(transformers=[('numeric',\n",
      "                                 Pipeline(steps=[('impute', SimpleImputer()),\n",
      "                                                 ('scale', StandardScaler())]),\n",
      "                                 ['trip_distance', 'fare_amount']),\n",
      "                                ('categoric',\n",
      "                                 Pipeline(steps=[('impute',\n",
      "                                                  SimpleImputer(strategy='most_frequent')),\n",
      "             ...`\n",
      "\n",
      "2022/10/22 18:08:43 WARNING mlflow.utils: Truncated the value of the key `preprocess`. Truncated value: `ColumnTransformer(transformers=[('numeric',\n",
      "                                 Pipeline(steps=[('impute', SimpleImputer()),\n",
      "                                                 ('scale', StandardScaler())]),\n",
      "                                 ['trip_distance', 'fare_amount']),\n",
      "                                ('categoric',\n",
      "                                 Pipeline(steps=[('impute',\n",
      "                                                  SimpleImputer(strategy='most_frequent')),\n",
      "                             ...`\n",
      "\n"
     ]
    },
    {
     "name": "stdout",
     "output_type": "stream",
     "text": [
      " 36%|███▌      | 18/50 [1:42:17<3:04:36, 346.13s/trial, best loss: 1.9062409545629415]"
     ]
    },
    {
     "name": "stderr",
     "output_type": "stream",
     "text": [
      "2022/10/22 18:14:29 WARNING mlflow.utils: Truncated the value of the key `steps`. Truncated value: `[('preprocess', ColumnTransformer(transformers=[('numeric',\n",
      "                                 Pipeline(steps=[('impute', SimpleImputer()),\n",
      "                                                 ('scale', StandardScaler())]),\n",
      "                                 ['trip_distance', 'fare_amount']),\n",
      "                                ('categoric',\n",
      "                                 Pipeline(steps=[('impute',\n",
      "                                                  SimpleImputer(strategy='most_frequent')),\n",
      "             ...`\n",
      "\n",
      "2022/10/22 18:14:29 WARNING mlflow.utils: Truncated the value of the key `preprocess`. Truncated value: `ColumnTransformer(transformers=[('numeric',\n",
      "                                 Pipeline(steps=[('impute', SimpleImputer()),\n",
      "                                                 ('scale', StandardScaler())]),\n",
      "                                 ['trip_distance', 'fare_amount']),\n",
      "                                ('categoric',\n",
      "                                 Pipeline(steps=[('impute',\n",
      "                                                  SimpleImputer(strategy='most_frequent')),\n",
      "                             ...`\n",
      "\n"
     ]
    },
    {
     "name": "stdout",
     "output_type": "stream",
     "text": [
      " 38%|███▊      | 19/50 [1:47:50<2:56:47, 342.18s/trial, best loss: 1.9062409545629415]"
     ]
    },
    {
     "name": "stderr",
     "output_type": "stream",
     "text": [
      "2022/10/22 18:20:02 WARNING mlflow.utils: Truncated the value of the key `steps`. Truncated value: `[('preprocess', ColumnTransformer(transformers=[('numeric',\n",
      "                                 Pipeline(steps=[('impute', SimpleImputer()),\n",
      "                                                 ('scale', StandardScaler())]),\n",
      "                                 ['trip_distance', 'fare_amount']),\n",
      "                                ('categoric',\n",
      "                                 Pipeline(steps=[('impute',\n",
      "                                                  SimpleImputer(strategy='most_frequent')),\n",
      "             ...`\n",
      "\n",
      "2022/10/22 18:20:02 WARNING mlflow.utils: Truncated the value of the key `preprocess`. Truncated value: `ColumnTransformer(transformers=[('numeric',\n",
      "                                 Pipeline(steps=[('impute', SimpleImputer()),\n",
      "                                                 ('scale', StandardScaler())]),\n",
      "                                 ['trip_distance', 'fare_amount']),\n",
      "                                ('categoric',\n",
      "                                 Pipeline(steps=[('impute',\n",
      "                                                  SimpleImputer(strategy='most_frequent')),\n",
      "                             ...`\n",
      "\n"
     ]
    },
    {
     "name": "stdout",
     "output_type": "stream",
     "text": [
      " 40%|████      | 20/50 [1:53:48<2:53:33, 347.10s/trial, best loss: 1.9062409545629415]"
     ]
    },
    {
     "name": "stderr",
     "output_type": "stream",
     "text": [
      "2022/10/22 18:26:00 WARNING mlflow.utils: Truncated the value of the key `steps`. Truncated value: `[('preprocess', ColumnTransformer(transformers=[('numeric',\n",
      "                                 Pipeline(steps=[('impute', SimpleImputer()),\n",
      "                                                 ('scale', StandardScaler())]),\n",
      "                                 ['trip_distance', 'fare_amount']),\n",
      "                                ('categoric',\n",
      "                                 Pipeline(steps=[('impute',\n",
      "                                                  SimpleImputer(strategy='most_frequent')),\n",
      "             ...`\n",
      "\n",
      "2022/10/22 18:26:00 WARNING mlflow.utils: Truncated the value of the key `preprocess`. Truncated value: `ColumnTransformer(transformers=[('numeric',\n",
      "                                 Pipeline(steps=[('impute', SimpleImputer()),\n",
      "                                                 ('scale', StandardScaler())]),\n",
      "                                 ['trip_distance', 'fare_amount']),\n",
      "                                ('categoric',\n",
      "                                 Pipeline(steps=[('impute',\n",
      "                                                  SimpleImputer(strategy='most_frequent')),\n",
      "                             ...`\n",
      "\n"
     ]
    },
    {
     "name": "stdout",
     "output_type": "stream",
     "text": [
      " 42%|████▏     | 21/50 [1:59:43<2:48:50, 349.33s/trial, best loss: 1.9062409545629415]"
     ]
    },
    {
     "name": "stderr",
     "output_type": "stream",
     "text": [
      "2022/10/22 18:31:55 WARNING mlflow.utils: Truncated the value of the key `steps`. Truncated value: `[('preprocess', ColumnTransformer(transformers=[('numeric',\n",
      "                                 Pipeline(steps=[('impute', SimpleImputer()),\n",
      "                                                 ('scale', StandardScaler())]),\n",
      "                                 ['trip_distance', 'fare_amount']),\n",
      "                                ('categoric',\n",
      "                                 Pipeline(steps=[('impute',\n",
      "                                                  SimpleImputer(strategy='most_frequent')),\n",
      "             ...`\n",
      "\n",
      "2022/10/22 18:31:55 WARNING mlflow.utils: Truncated the value of the key `preprocess`. Truncated value: `ColumnTransformer(transformers=[('numeric',\n",
      "                                 Pipeline(steps=[('impute', SimpleImputer()),\n",
      "                                                 ('scale', StandardScaler())]),\n",
      "                                 ['trip_distance', 'fare_amount']),\n",
      "                                ('categoric',\n",
      "                                 Pipeline(steps=[('impute',\n",
      "                                                  SimpleImputer(strategy='most_frequent')),\n",
      "                             ...`\n",
      "\n"
     ]
    },
    {
     "name": "stdout",
     "output_type": "stream",
     "text": [
      " 44%|████▍     | 22/50 [2:05:32<2:42:57, 349.18s/trial, best loss: 1.9062409545629415]"
     ]
    },
    {
     "name": "stderr",
     "output_type": "stream",
     "text": [
      "2022/10/22 18:37:44 WARNING mlflow.utils: Truncated the value of the key `steps`. Truncated value: `[('preprocess', ColumnTransformer(transformers=[('numeric',\n",
      "                                 Pipeline(steps=[('impute', SimpleImputer()),\n",
      "                                                 ('scale', StandardScaler())]),\n",
      "                                 ['trip_distance', 'fare_amount']),\n",
      "                                ('categoric',\n",
      "                                 Pipeline(steps=[('impute',\n",
      "                                                  SimpleImputer(strategy='most_frequent')),\n",
      "             ...`\n",
      "\n",
      "2022/10/22 18:37:44 WARNING mlflow.utils: Truncated the value of the key `preprocess`. Truncated value: `ColumnTransformer(transformers=[('numeric',\n",
      "                                 Pipeline(steps=[('impute', SimpleImputer()),\n",
      "                                                 ('scale', StandardScaler())]),\n",
      "                                 ['trip_distance', 'fare_amount']),\n",
      "                                ('categoric',\n",
      "                                 Pipeline(steps=[('impute',\n",
      "                                                  SimpleImputer(strategy='most_frequent')),\n",
      "                             ...`\n",
      "\n"
     ]
    },
    {
     "name": "stdout",
     "output_type": "stream",
     "text": [
      " 46%|████▌     | 23/50 [2:11:40<2:39:39, 354.81s/trial, best loss: 1.9062409545629415]"
     ]
    },
    {
     "name": "stderr",
     "output_type": "stream",
     "text": [
      "2022/10/22 18:43:52 WARNING mlflow.utils: Truncated the value of the key `steps`. Truncated value: `[('preprocess', ColumnTransformer(transformers=[('numeric',\n",
      "                                 Pipeline(steps=[('impute', SimpleImputer()),\n",
      "                                                 ('scale', StandardScaler())]),\n",
      "                                 ['trip_distance', 'fare_amount']),\n",
      "                                ('categoric',\n",
      "                                 Pipeline(steps=[('impute',\n",
      "                                                  SimpleImputer(strategy='most_frequent')),\n",
      "             ...`\n",
      "\n",
      "2022/10/22 18:43:52 WARNING mlflow.utils: Truncated the value of the key `preprocess`. Truncated value: `ColumnTransformer(transformers=[('numeric',\n",
      "                                 Pipeline(steps=[('impute', SimpleImputer()),\n",
      "                                                 ('scale', StandardScaler())]),\n",
      "                                 ['trip_distance', 'fare_amount']),\n",
      "                                ('categoric',\n",
      "                                 Pipeline(steps=[('impute',\n",
      "                                                  SimpleImputer(strategy='most_frequent')),\n",
      "                             ...`\n",
      "\n"
     ]
    },
    {
     "name": "stdout",
     "output_type": "stream",
     "text": [
      " 48%|████▊     | 24/50 [2:17:46<2:35:12, 358.16s/trial, best loss: 1.9062409545629415]"
     ]
    },
    {
     "name": "stderr",
     "output_type": "stream",
     "text": [
      "2022/10/22 18:49:58 WARNING mlflow.utils: Truncated the value of the key `steps`. Truncated value: `[('preprocess', ColumnTransformer(transformers=[('numeric',\n",
      "                                 Pipeline(steps=[('impute', SimpleImputer()),\n",
      "                                                 ('scale', StandardScaler())]),\n",
      "                                 ['trip_distance', 'fare_amount']),\n",
      "                                ('categoric',\n",
      "                                 Pipeline(steps=[('impute',\n",
      "                                                  SimpleImputer(strategy='most_frequent')),\n",
      "             ...`\n",
      "\n",
      "2022/10/22 18:49:58 WARNING mlflow.utils: Truncated the value of the key `preprocess`. Truncated value: `ColumnTransformer(transformers=[('numeric',\n",
      "                                 Pipeline(steps=[('impute', SimpleImputer()),\n",
      "                                                 ('scale', StandardScaler())]),\n",
      "                                 ['trip_distance', 'fare_amount']),\n",
      "                                ('categoric',\n",
      "                                 Pipeline(steps=[('impute',\n",
      "                                                  SimpleImputer(strategy='most_frequent')),\n",
      "                             ...`\n",
      "\n"
     ]
    },
    {
     "name": "stdout",
     "output_type": "stream",
     "text": [
      " 50%|█████     | 25/50 [2:23:53<2:30:21, 360.85s/trial, best loss: 1.9062409545629415]"
     ]
    },
    {
     "name": "stderr",
     "output_type": "stream",
     "text": [
      "2022/10/22 18:56:05 WARNING mlflow.utils: Truncated the value of the key `steps`. Truncated value: `[('preprocess', ColumnTransformer(transformers=[('numeric',\n",
      "                                 Pipeline(steps=[('impute', SimpleImputer()),\n",
      "                                                 ('scale', StandardScaler())]),\n",
      "                                 ['trip_distance', 'fare_amount']),\n",
      "                                ('categoric',\n",
      "                                 Pipeline(steps=[('impute',\n",
      "                                                  SimpleImputer(strategy='most_frequent')),\n",
      "             ...`\n",
      "\n",
      "2022/10/22 18:56:05 WARNING mlflow.utils: Truncated the value of the key `preprocess`. Truncated value: `ColumnTransformer(transformers=[('numeric',\n",
      "                                 Pipeline(steps=[('impute', SimpleImputer()),\n",
      "                                                 ('scale', StandardScaler())]),\n",
      "                                 ['trip_distance', 'fare_amount']),\n",
      "                                ('categoric',\n",
      "                                 Pipeline(steps=[('impute',\n",
      "                                                  SimpleImputer(strategy='most_frequent')),\n",
      "                             ...`\n",
      "\n"
     ]
    },
    {
     "name": "stdout",
     "output_type": "stream",
     "text": [
      " 52%|█████▏    | 26/50 [2:29:56<2:24:36, 361.52s/trial, best loss: 1.9062409545629415]"
     ]
    },
    {
     "name": "stderr",
     "output_type": "stream",
     "text": [
      "2022/10/22 19:02:08 WARNING mlflow.utils: Truncated the value of the key `steps`. Truncated value: `[('preprocess', ColumnTransformer(transformers=[('numeric',\n",
      "                                 Pipeline(steps=[('impute', SimpleImputer()),\n",
      "                                                 ('scale', StandardScaler())]),\n",
      "                                 ['trip_distance', 'fare_amount']),\n",
      "                                ('categoric',\n",
      "                                 Pipeline(steps=[('impute',\n",
      "                                                  SimpleImputer(strategy='most_frequent')),\n",
      "             ...`\n",
      "\n",
      "2022/10/22 19:02:08 WARNING mlflow.utils: Truncated the value of the key `preprocess`. Truncated value: `ColumnTransformer(transformers=[('numeric',\n",
      "                                 Pipeline(steps=[('impute', SimpleImputer()),\n",
      "                                                 ('scale', StandardScaler())]),\n",
      "                                 ['trip_distance', 'fare_amount']),\n",
      "                                ('categoric',\n",
      "                                 Pipeline(steps=[('impute',\n",
      "                                                  SimpleImputer(strategy='most_frequent')),\n",
      "                             ...`\n",
      "\n"
     ]
    },
    {
     "name": "stdout",
     "output_type": "stream",
     "text": [
      " 54%|█████▍    | 27/50 [2:35:19<2:14:09, 349.97s/trial, best loss: 1.9062409545629415]"
     ]
    },
    {
     "name": "stderr",
     "output_type": "stream",
     "text": [
      "2022/10/22 19:07:31 WARNING mlflow.utils: Truncated the value of the key `steps`. Truncated value: `[('preprocess', ColumnTransformer(transformers=[('numeric',\n",
      "                                 Pipeline(steps=[('impute', SimpleImputer()),\n",
      "                                                 ('scale', StandardScaler())]),\n",
      "                                 ['trip_distance', 'fare_amount']),\n",
      "                                ('categoric',\n",
      "                                 Pipeline(steps=[('impute',\n",
      "                                                  SimpleImputer(strategy='most_frequent')),\n",
      "             ...`\n",
      "\n",
      "2022/10/22 19:07:31 WARNING mlflow.utils: Truncated the value of the key `preprocess`. Truncated value: `ColumnTransformer(transformers=[('numeric',\n",
      "                                 Pipeline(steps=[('impute', SimpleImputer()),\n",
      "                                                 ('scale', StandardScaler())]),\n",
      "                                 ['trip_distance', 'fare_amount']),\n",
      "                                ('categoric',\n",
      "                                 Pipeline(steps=[('impute',\n",
      "                                                  SimpleImputer(strategy='most_frequent')),\n",
      "                             ...`\n",
      "\n"
     ]
    },
    {
     "name": "stdout",
     "output_type": "stream",
     "text": [
      " 56%|█████▌    | 28/50 [2:40:12<2:02:04, 332.92s/trial, best loss: 1.9062409545629415]"
     ]
    },
    {
     "name": "stderr",
     "output_type": "stream",
     "text": [
      "2022/10/22 19:12:28 WARNING mlflow.utils: Truncated the value of the key `steps`. Truncated value: `[('preprocess', ColumnTransformer(transformers=[('numeric',\n",
      "                                 Pipeline(steps=[('impute', SimpleImputer()),\n",
      "                                                 ('scale', StandardScaler())]),\n",
      "                                 ['trip_distance', 'fare_amount']),\n",
      "                                ('categoric',\n",
      "                                 Pipeline(steps=[('impute',\n",
      "                                                  SimpleImputer(strategy='most_frequent')),\n",
      "             ...`\n",
      "\n",
      "2022/10/22 19:12:28 WARNING mlflow.utils: Truncated the value of the key `preprocess`. Truncated value: `ColumnTransformer(transformers=[('numeric',\n",
      "                                 Pipeline(steps=[('impute', SimpleImputer()),\n",
      "                                                 ('scale', StandardScaler())]),\n",
      "                                 ['trip_distance', 'fare_amount']),\n",
      "                                ('categoric',\n",
      "                                 Pipeline(steps=[('impute',\n",
      "                                                  SimpleImputer(strategy='most_frequent')),\n",
      "                             ...`\n",
      "\n"
     ]
    },
    {
     "name": "stdout",
     "output_type": "stream",
     "text": [
      " 58%|█████▊    | 29/50 [2:45:09<1:52:46, 322.22s/trial, best loss: 1.9062409545629415]"
     ]
    },
    {
     "name": "stderr",
     "output_type": "stream",
     "text": [
      "2022/10/22 19:17:21 WARNING mlflow.utils: Truncated the value of the key `steps`. Truncated value: `[('preprocess', ColumnTransformer(transformers=[('numeric',\n",
      "                                 Pipeline(steps=[('impute', SimpleImputer()),\n",
      "                                                 ('scale', StandardScaler())]),\n",
      "                                 ['trip_distance', 'fare_amount']),\n",
      "                                ('categoric',\n",
      "                                 Pipeline(steps=[('impute',\n",
      "                                                  SimpleImputer(strategy='most_frequent')),\n",
      "             ...`\n",
      "\n",
      "2022/10/22 19:17:21 WARNING mlflow.utils: Truncated the value of the key `preprocess`. Truncated value: `ColumnTransformer(transformers=[('numeric',\n",
      "                                 Pipeline(steps=[('impute', SimpleImputer()),\n",
      "                                                 ('scale', StandardScaler())]),\n",
      "                                 ['trip_distance', 'fare_amount']),\n",
      "                                ('categoric',\n",
      "                                 Pipeline(steps=[('impute',\n",
      "                                                  SimpleImputer(strategy='most_frequent')),\n",
      "                             ...`\n",
      "\n"
     ]
    },
    {
     "name": "stdout",
     "output_type": "stream",
     "text": [
      " 60%|██████    | 30/50 [2:50:02<1:44:30, 313.51s/trial, best loss: 1.9062409545629415]"
     ]
    },
    {
     "name": "stderr",
     "output_type": "stream",
     "text": [
      "2022/10/22 19:22:14 WARNING mlflow.utils: Truncated the value of the key `steps`. Truncated value: `[('preprocess', ColumnTransformer(transformers=[('numeric',\n",
      "                                 Pipeline(steps=[('impute', SimpleImputer()),\n",
      "                                                 ('scale', StandardScaler())]),\n",
      "                                 ['trip_distance', 'fare_amount']),\n",
      "                                ('categoric',\n",
      "                                 Pipeline(steps=[('impute',\n",
      "                                                  SimpleImputer(strategy='most_frequent')),\n",
      "             ...`\n",
      "\n",
      "2022/10/22 19:22:14 WARNING mlflow.utils: Truncated the value of the key `preprocess`. Truncated value: `ColumnTransformer(transformers=[('numeric',\n",
      "                                 Pipeline(steps=[('impute', SimpleImputer()),\n",
      "                                                 ('scale', StandardScaler())]),\n",
      "                                 ['trip_distance', 'fare_amount']),\n",
      "                                ('categoric',\n",
      "                                 Pipeline(steps=[('impute',\n",
      "                                                  SimpleImputer(strategy='most_frequent')),\n",
      "                             ...`\n",
      "\n"
     ]
    },
    {
     "name": "stdout",
     "output_type": "stream",
     "text": [
      " 62%|██████▏   | 31/50 [2:54:25<1:34:27, 298.27s/trial, best loss: 1.9062409545629415]"
     ]
    },
    {
     "name": "stderr",
     "output_type": "stream",
     "text": [
      "2022/10/22 19:26:37 WARNING mlflow.utils: Truncated the value of the key `steps`. Truncated value: `[('preprocess', ColumnTransformer(transformers=[('numeric',\n",
      "                                 Pipeline(steps=[('impute', SimpleImputer()),\n",
      "                                                 ('scale', StandardScaler())]),\n",
      "                                 ['trip_distance', 'fare_amount']),\n",
      "                                ('categoric',\n",
      "                                 Pipeline(steps=[('impute',\n",
      "                                                  SimpleImputer(strategy='most_frequent')),\n",
      "             ...`\n",
      "\n",
      "2022/10/22 19:26:37 WARNING mlflow.utils: Truncated the value of the key `preprocess`. Truncated value: `ColumnTransformer(transformers=[('numeric',\n",
      "                                 Pipeline(steps=[('impute', SimpleImputer()),\n",
      "                                                 ('scale', StandardScaler())]),\n",
      "                                 ['trip_distance', 'fare_amount']),\n",
      "                                ('categoric',\n",
      "                                 Pipeline(steps=[('impute',\n",
      "                                                  SimpleImputer(strategy='most_frequent')),\n",
      "                             ...`\n",
      "\n"
     ]
    },
    {
     "name": "stdout",
     "output_type": "stream",
     "text": [
      " 64%|██████▍   | 32/50 [2:59:01<1:27:28, 291.60s/trial, best loss: 1.9062409545629415]"
     ]
    },
    {
     "name": "stderr",
     "output_type": "stream",
     "text": [
      "2022/10/22 19:31:13 WARNING mlflow.utils: Truncated the value of the key `steps`. Truncated value: `[('preprocess', ColumnTransformer(transformers=[('numeric',\n",
      "                                 Pipeline(steps=[('impute', SimpleImputer()),\n",
      "                                                 ('scale', StandardScaler())]),\n",
      "                                 ['trip_distance', 'fare_amount']),\n",
      "                                ('categoric',\n",
      "                                 Pipeline(steps=[('impute',\n",
      "                                                  SimpleImputer(strategy='most_frequent')),\n",
      "             ...`\n",
      "\n",
      "2022/10/22 19:31:13 WARNING mlflow.utils: Truncated the value of the key `preprocess`. Truncated value: `ColumnTransformer(transformers=[('numeric',\n",
      "                                 Pipeline(steps=[('impute', SimpleImputer()),\n",
      "                                                 ('scale', StandardScaler())]),\n",
      "                                 ['trip_distance', 'fare_amount']),\n",
      "                                ('categoric',\n",
      "                                 Pipeline(steps=[('impute',\n",
      "                                                  SimpleImputer(strategy='most_frequent')),\n",
      "                             ...`\n",
      "\n"
     ]
    },
    {
     "name": "stdout",
     "output_type": "stream",
     "text": [
      " 66%|██████▌   | 33/50 [3:03:56<1:22:53, 292.56s/trial, best loss: 1.9062409545629415]"
     ]
    },
    {
     "name": "stderr",
     "output_type": "stream",
     "text": [
      "2022/10/22 19:36:08 WARNING mlflow.utils: Truncated the value of the key `steps`. Truncated value: `[('preprocess', ColumnTransformer(transformers=[('numeric',\n",
      "                                 Pipeline(steps=[('impute', SimpleImputer()),\n",
      "                                                 ('scale', StandardScaler())]),\n",
      "                                 ['trip_distance', 'fare_amount']),\n",
      "                                ('categoric',\n",
      "                                 Pipeline(steps=[('impute',\n",
      "                                                  SimpleImputer(strategy='most_frequent')),\n",
      "             ...`\n",
      "\n",
      "2022/10/22 19:36:08 WARNING mlflow.utils: Truncated the value of the key `preprocess`. Truncated value: `ColumnTransformer(transformers=[('numeric',\n",
      "                                 Pipeline(steps=[('impute', SimpleImputer()),\n",
      "                                                 ('scale', StandardScaler())]),\n",
      "                                 ['trip_distance', 'fare_amount']),\n",
      "                                ('categoric',\n",
      "                                 Pipeline(steps=[('impute',\n",
      "                                                  SimpleImputer(strategy='most_frequent')),\n",
      "                             ...`\n",
      "\n"
     ]
    },
    {
     "name": "stdout",
     "output_type": "stream",
     "text": [
      " 68%|██████▊   | 34/50 [3:08:51<1:18:13, 293.35s/trial, best loss: 1.9062409545629415]"
     ]
    },
    {
     "name": "stderr",
     "output_type": "stream",
     "text": [
      "2022/10/22 19:41:03 WARNING mlflow.utils: Truncated the value of the key `steps`. Truncated value: `[('preprocess', ColumnTransformer(transformers=[('numeric',\n",
      "                                 Pipeline(steps=[('impute', SimpleImputer()),\n",
      "                                                 ('scale', StandardScaler())]),\n",
      "                                 ['trip_distance', 'fare_amount']),\n",
      "                                ('categoric',\n",
      "                                 Pipeline(steps=[('impute',\n",
      "                                                  SimpleImputer(strategy='most_frequent')),\n",
      "             ...`\n",
      "\n",
      "2022/10/22 19:41:03 WARNING mlflow.utils: Truncated the value of the key `preprocess`. Truncated value: `ColumnTransformer(transformers=[('numeric',\n",
      "                                 Pipeline(steps=[('impute', SimpleImputer()),\n",
      "                                                 ('scale', StandardScaler())]),\n",
      "                                 ['trip_distance', 'fare_amount']),\n",
      "                                ('categoric',\n",
      "                                 Pipeline(steps=[('impute',\n",
      "                                                  SimpleImputer(strategy='most_frequent')),\n",
      "                             ...`\n",
      "\n"
     ]
    },
    {
     "name": "stdout",
     "output_type": "stream",
     "text": [
      " 70%|███████   | 35/50 [3:13:47<1:13:30, 294.06s/trial, best loss: 1.9062409545629415]"
     ]
    },
    {
     "name": "stderr",
     "output_type": "stream",
     "text": [
      "2022/10/22 19:45:59 WARNING mlflow.utils: Truncated the value of the key `steps`. Truncated value: `[('preprocess', ColumnTransformer(transformers=[('numeric',\n",
      "                                 Pipeline(steps=[('impute', SimpleImputer()),\n",
      "                                                 ('scale', StandardScaler())]),\n",
      "                                 ['trip_distance', 'fare_amount']),\n",
      "                                ('categoric',\n",
      "                                 Pipeline(steps=[('impute',\n",
      "                                                  SimpleImputer(strategy='most_frequent')),\n",
      "             ...`\n",
      "\n",
      "2022/10/22 19:45:59 WARNING mlflow.utils: Truncated the value of the key `preprocess`. Truncated value: `ColumnTransformer(transformers=[('numeric',\n",
      "                                 Pipeline(steps=[('impute', SimpleImputer()),\n",
      "                                                 ('scale', StandardScaler())]),\n",
      "                                 ['trip_distance', 'fare_amount']),\n",
      "                                ('categoric',\n",
      "                                 Pipeline(steps=[('impute',\n",
      "                                                  SimpleImputer(strategy='most_frequent')),\n",
      "                             ...`\n",
      "\n"
     ]
    },
    {
     "name": "stdout",
     "output_type": "stream",
     "text": [
      " 72%|███████▏  | 36/50 [3:18:43<1:08:45, 294.70s/trial, best loss: 1.9062409545629415]"
     ]
    },
    {
     "name": "stderr",
     "output_type": "stream",
     "text": [
      "2022/10/22 19:50:55 WARNING mlflow.utils: Truncated the value of the key `steps`. Truncated value: `[('preprocess', ColumnTransformer(transformers=[('numeric',\n",
      "                                 Pipeline(steps=[('impute', SimpleImputer()),\n",
      "                                                 ('scale', StandardScaler())]),\n",
      "                                 ['trip_distance', 'fare_amount']),\n",
      "                                ('categoric',\n",
      "                                 Pipeline(steps=[('impute',\n",
      "                                                  SimpleImputer(strategy='most_frequent')),\n",
      "             ...`\n",
      "\n",
      "2022/10/22 19:50:55 WARNING mlflow.utils: Truncated the value of the key `preprocess`. Truncated value: `ColumnTransformer(transformers=[('numeric',\n",
      "                                 Pipeline(steps=[('impute', SimpleImputer()),\n",
      "                                                 ('scale', StandardScaler())]),\n",
      "                                 ['trip_distance', 'fare_amount']),\n",
      "                                ('categoric',\n",
      "                                 Pipeline(steps=[('impute',\n",
      "                                                  SimpleImputer(strategy='most_frequent')),\n",
      "                             ...`\n",
      "\n"
     ]
    },
    {
     "name": "stdout",
     "output_type": "stream",
     "text": [
      " 74%|███████▍  | 37/50 [3:23:31<1:03:25, 292.75s/trial, best loss: 1.9062409545629415]"
     ]
    },
    {
     "name": "stderr",
     "output_type": "stream",
     "text": [
      "2022/10/22 19:55:43 WARNING mlflow.utils: Truncated the value of the key `steps`. Truncated value: `[('preprocess', ColumnTransformer(transformers=[('numeric',\n",
      "                                 Pipeline(steps=[('impute', SimpleImputer()),\n",
      "                                                 ('scale', StandardScaler())]),\n",
      "                                 ['trip_distance', 'fare_amount']),\n",
      "                                ('categoric',\n",
      "                                 Pipeline(steps=[('impute',\n",
      "                                                  SimpleImputer(strategy='most_frequent')),\n",
      "             ...`\n",
      "\n",
      "2022/10/22 19:55:43 WARNING mlflow.utils: Truncated the value of the key `preprocess`. Truncated value: `ColumnTransformer(transformers=[('numeric',\n",
      "                                 Pipeline(steps=[('impute', SimpleImputer()),\n",
      "                                                 ('scale', StandardScaler())]),\n",
      "                                 ['trip_distance', 'fare_amount']),\n",
      "                                ('categoric',\n",
      "                                 Pipeline(steps=[('impute',\n",
      "                                                  SimpleImputer(strategy='most_frequent')),\n",
      "                             ...`\n",
      "\n"
     ]
    },
    {
     "name": "stdout",
     "output_type": "stream",
     "text": [
      " 76%|███████▌  | 38/50 [3:27:58<57:00, 285.02s/trial, best loss: 1.9062409545629415]  "
     ]
    },
    {
     "name": "stderr",
     "output_type": "stream",
     "text": [
      "2022/10/22 20:00:10 WARNING mlflow.utils: Truncated the value of the key `steps`. Truncated value: `[('preprocess', ColumnTransformer(transformers=[('numeric',\n",
      "                                 Pipeline(steps=[('impute', SimpleImputer()),\n",
      "                                                 ('scale', StandardScaler())]),\n",
      "                                 ['trip_distance', 'fare_amount']),\n",
      "                                ('categoric',\n",
      "                                 Pipeline(steps=[('impute',\n",
      "                                                  SimpleImputer(strategy='most_frequent')),\n",
      "             ...`\n",
      "\n",
      "2022/10/22 20:00:10 WARNING mlflow.utils: Truncated the value of the key `preprocess`. Truncated value: `ColumnTransformer(transformers=[('numeric',\n",
      "                                 Pipeline(steps=[('impute', SimpleImputer()),\n",
      "                                                 ('scale', StandardScaler())]),\n",
      "                                 ['trip_distance', 'fare_amount']),\n",
      "                                ('categoric',\n",
      "                                 Pipeline(steps=[('impute',\n",
      "                                                  SimpleImputer(strategy='most_frequent')),\n",
      "                             ...`\n",
      "\n"
     ]
    },
    {
     "name": "stdout",
     "output_type": "stream",
     "text": [
      " 78%|███████▊  | 39/50 [3:32:51<52:38, 287.18s/trial, best loss: 1.9062409545629415]"
     ]
    },
    {
     "name": "stderr",
     "output_type": "stream",
     "text": [
      "2022/10/22 20:05:02 WARNING mlflow.utils: Truncated the value of the key `steps`. Truncated value: `[('preprocess', ColumnTransformer(transformers=[('numeric',\n",
      "                                 Pipeline(steps=[('impute', SimpleImputer()),\n",
      "                                                 ('scale', StandardScaler())]),\n",
      "                                 ['trip_distance', 'fare_amount']),\n",
      "                                ('categoric',\n",
      "                                 Pipeline(steps=[('impute',\n",
      "                                                  SimpleImputer(strategy='most_frequent')),\n",
      "             ...`\n",
      "\n",
      "2022/10/22 20:05:02 WARNING mlflow.utils: Truncated the value of the key `preprocess`. Truncated value: `ColumnTransformer(transformers=[('numeric',\n",
      "                                 Pipeline(steps=[('impute', SimpleImputer()),\n",
      "                                                 ('scale', StandardScaler())]),\n",
      "                                 ['trip_distance', 'fare_amount']),\n",
      "                                ('categoric',\n",
      "                                 Pipeline(steps=[('impute',\n",
      "                                                  SimpleImputer(strategy='most_frequent')),\n",
      "                             ...`\n",
      "\n"
     ]
    },
    {
     "name": "stdout",
     "output_type": "stream",
     "text": [
      " 80%|████████  | 40/50 [3:37:46<48:18, 289.80s/trial, best loss: 1.9062409545629415]"
     ]
    },
    {
     "name": "stderr",
     "output_type": "stream",
     "text": [
      "2022/10/22 20:09:58 WARNING mlflow.utils: Truncated the value of the key `steps`. Truncated value: `[('preprocess', ColumnTransformer(transformers=[('numeric',\n",
      "                                 Pipeline(steps=[('impute', SimpleImputer()),\n",
      "                                                 ('scale', StandardScaler())]),\n",
      "                                 ['trip_distance', 'fare_amount']),\n",
      "                                ('categoric',\n",
      "                                 Pipeline(steps=[('impute',\n",
      "                                                  SimpleImputer(strategy='most_frequent')),\n",
      "             ...`\n",
      "\n",
      "2022/10/22 20:09:58 WARNING mlflow.utils: Truncated the value of the key `preprocess`. Truncated value: `ColumnTransformer(transformers=[('numeric',\n",
      "                                 Pipeline(steps=[('impute', SimpleImputer()),\n",
      "                                                 ('scale', StandardScaler())]),\n",
      "                                 ['trip_distance', 'fare_amount']),\n",
      "                                ('categoric',\n",
      "                                 Pipeline(steps=[('impute',\n",
      "                                                  SimpleImputer(strategy='most_frequent')),\n",
      "                             ...`\n",
      "\n"
     ]
    },
    {
     "name": "stdout",
     "output_type": "stream",
     "text": [
      " 82%|████████▏ | 41/50 [3:42:38<43:33, 290.34s/trial, best loss: 1.9062409545629415]"
     ]
    },
    {
     "name": "stderr",
     "output_type": "stream",
     "text": [
      "2022/10/22 20:14:50 WARNING mlflow.utils: Truncated the value of the key `steps`. Truncated value: `[('preprocess', ColumnTransformer(transformers=[('numeric',\n",
      "                                 Pipeline(steps=[('impute', SimpleImputer()),\n",
      "                                                 ('scale', StandardScaler())]),\n",
      "                                 ['trip_distance', 'fare_amount']),\n",
      "                                ('categoric',\n",
      "                                 Pipeline(steps=[('impute',\n",
      "                                                  SimpleImputer(strategy='most_frequent')),\n",
      "             ...`\n",
      "\n",
      "2022/10/22 20:14:50 WARNING mlflow.utils: Truncated the value of the key `preprocess`. Truncated value: `ColumnTransformer(transformers=[('numeric',\n",
      "                                 Pipeline(steps=[('impute', SimpleImputer()),\n",
      "                                                 ('scale', StandardScaler())]),\n",
      "                                 ['trip_distance', 'fare_amount']),\n",
      "                                ('categoric',\n",
      "                                 Pipeline(steps=[('impute',\n",
      "                                                  SimpleImputer(strategy='most_frequent')),\n",
      "                             ...`\n",
      "\n"
     ]
    },
    {
     "name": "stdout",
     "output_type": "stream",
     "text": [
      " 84%|████████▍ | 42/50 [3:47:37<39:04, 293.05s/trial, best loss: 1.9062409545629415]"
     ]
    },
    {
     "name": "stderr",
     "output_type": "stream",
     "text": [
      "2022/10/22 20:19:49 WARNING mlflow.utils: Truncated the value of the key `steps`. Truncated value: `[('preprocess', ColumnTransformer(transformers=[('numeric',\n",
      "                                 Pipeline(steps=[('impute', SimpleImputer()),\n",
      "                                                 ('scale', StandardScaler())]),\n",
      "                                 ['trip_distance', 'fare_amount']),\n",
      "                                ('categoric',\n",
      "                                 Pipeline(steps=[('impute',\n",
      "                                                  SimpleImputer(strategy='most_frequent')),\n",
      "             ...`\n",
      "\n",
      "2022/10/22 20:19:49 WARNING mlflow.utils: Truncated the value of the key `preprocess`. Truncated value: `ColumnTransformer(transformers=[('numeric',\n",
      "                                 Pipeline(steps=[('impute', SimpleImputer()),\n",
      "                                                 ('scale', StandardScaler())]),\n",
      "                                 ['trip_distance', 'fare_amount']),\n",
      "                                ('categoric',\n",
      "                                 Pipeline(steps=[('impute',\n",
      "                                                  SimpleImputer(strategy='most_frequent')),\n",
      "                             ...`\n",
      "\n"
     ]
    },
    {
     "name": "stdout",
     "output_type": "stream",
     "text": [
      " 86%|████████▌ | 43/50 [3:52:34<34:17, 293.98s/trial, best loss: 1.9062409545629415]"
     ]
    },
    {
     "name": "stderr",
     "output_type": "stream",
     "text": [
      "2022/10/22 20:24:45 WARNING mlflow.utils: Truncated the value of the key `steps`. Truncated value: `[('preprocess', ColumnTransformer(transformers=[('numeric',\n",
      "                                 Pipeline(steps=[('impute', SimpleImputer()),\n",
      "                                                 ('scale', StandardScaler())]),\n",
      "                                 ['trip_distance', 'fare_amount']),\n",
      "                                ('categoric',\n",
      "                                 Pipeline(steps=[('impute',\n",
      "                                                  SimpleImputer(strategy='most_frequent')),\n",
      "             ...`\n",
      "\n",
      "2022/10/22 20:24:45 WARNING mlflow.utils: Truncated the value of the key `preprocess`. Truncated value: `ColumnTransformer(transformers=[('numeric',\n",
      "                                 Pipeline(steps=[('impute', SimpleImputer()),\n",
      "                                                 ('scale', StandardScaler())]),\n",
      "                                 ['trip_distance', 'fare_amount']),\n",
      "                                ('categoric',\n",
      "                                 Pipeline(steps=[('impute',\n",
      "                                                  SimpleImputer(strategy='most_frequent')),\n",
      "                             ...`\n",
      "\n"
     ]
    },
    {
     "name": "stdout",
     "output_type": "stream",
     "text": [
      " 88%|████████▊ | 44/50 [3:57:23<29:16, 292.69s/trial, best loss: 1.9062409545629415]"
     ]
    },
    {
     "name": "stderr",
     "output_type": "stream",
     "text": [
      "2022/10/22 20:29:35 WARNING mlflow.utils: Truncated the value of the key `steps`. Truncated value: `[('preprocess', ColumnTransformer(transformers=[('numeric',\n",
      "                                 Pipeline(steps=[('impute', SimpleImputer()),\n",
      "                                                 ('scale', StandardScaler())]),\n",
      "                                 ['trip_distance', 'fare_amount']),\n",
      "                                ('categoric',\n",
      "                                 Pipeline(steps=[('impute',\n",
      "                                                  SimpleImputer(strategy='most_frequent')),\n",
      "             ...`\n",
      "\n",
      "2022/10/22 20:29:35 WARNING mlflow.utils: Truncated the value of the key `preprocess`. Truncated value: `ColumnTransformer(transformers=[('numeric',\n",
      "                                 Pipeline(steps=[('impute', SimpleImputer()),\n",
      "                                                 ('scale', StandardScaler())]),\n",
      "                                 ['trip_distance', 'fare_amount']),\n",
      "                                ('categoric',\n",
      "                                 Pipeline(steps=[('impute',\n",
      "                                                  SimpleImputer(strategy='most_frequent')),\n",
      "                             ...`\n",
      "\n"
     ]
    },
    {
     "name": "stdout",
     "output_type": "stream",
     "text": [
      " 90%|█████████ | 45/50 [4:02:02<24:02, 288.47s/trial, best loss: 1.9062409545629415]"
     ]
    },
    {
     "name": "stderr",
     "output_type": "stream",
     "text": [
      "2022/10/22 20:34:14 WARNING mlflow.utils: Truncated the value of the key `steps`. Truncated value: `[('preprocess', ColumnTransformer(transformers=[('numeric',\n",
      "                                 Pipeline(steps=[('impute', SimpleImputer()),\n",
      "                                                 ('scale', StandardScaler())]),\n",
      "                                 ['trip_distance', 'fare_amount']),\n",
      "                                ('categoric',\n",
      "                                 Pipeline(steps=[('impute',\n",
      "                                                  SimpleImputer(strategy='most_frequent')),\n",
      "             ...`\n",
      "\n",
      "2022/10/22 20:34:14 WARNING mlflow.utils: Truncated the value of the key `preprocess`. Truncated value: `ColumnTransformer(transformers=[('numeric',\n",
      "                                 Pipeline(steps=[('impute', SimpleImputer()),\n",
      "                                                 ('scale', StandardScaler())]),\n",
      "                                 ['trip_distance', 'fare_amount']),\n",
      "                                ('categoric',\n",
      "                                 Pipeline(steps=[('impute',\n",
      "                                                  SimpleImputer(strategy='most_frequent')),\n",
      "                             ...`\n",
      "\n"
     ]
    },
    {
     "name": "stdout",
     "output_type": "stream",
     "text": [
      " 92%|█████████▏| 46/50 [4:07:03<19:29, 292.26s/trial, best loss: 1.9062409545629415]"
     ]
    },
    {
     "name": "stderr",
     "output_type": "stream",
     "text": [
      "2022/10/22 20:39:15 WARNING mlflow.utils: Truncated the value of the key `steps`. Truncated value: `[('preprocess', ColumnTransformer(transformers=[('numeric',\n",
      "                                 Pipeline(steps=[('impute', SimpleImputer()),\n",
      "                                                 ('scale', StandardScaler())]),\n",
      "                                 ['trip_distance', 'fare_amount']),\n",
      "                                ('categoric',\n",
      "                                 Pipeline(steps=[('impute',\n",
      "                                                  SimpleImputer(strategy='most_frequent')),\n",
      "             ...`\n",
      "\n",
      "2022/10/22 20:39:15 WARNING mlflow.utils: Truncated the value of the key `preprocess`. Truncated value: `ColumnTransformer(transformers=[('numeric',\n",
      "                                 Pipeline(steps=[('impute', SimpleImputer()),\n",
      "                                                 ('scale', StandardScaler())]),\n",
      "                                 ['trip_distance', 'fare_amount']),\n",
      "                                ('categoric',\n",
      "                                 Pipeline(steps=[('impute',\n",
      "                                                  SimpleImputer(strategy='most_frequent')),\n",
      "                             ...`\n",
      "\n"
     ]
    },
    {
     "name": "stdout",
     "output_type": "stream",
     "text": [
      " 94%|█████████▍| 47/50 [4:11:30<14:14, 284.74s/trial, best loss: 1.9062409545629415]"
     ]
    },
    {
     "name": "stderr",
     "output_type": "stream",
     "text": [
      "2022/10/22 20:43:42 WARNING mlflow.utils: Truncated the value of the key `steps`. Truncated value: `[('preprocess', ColumnTransformer(transformers=[('numeric',\n",
      "                                 Pipeline(steps=[('impute', SimpleImputer()),\n",
      "                                                 ('scale', StandardScaler())]),\n",
      "                                 ['trip_distance', 'fare_amount']),\n",
      "                                ('categoric',\n",
      "                                 Pipeline(steps=[('impute',\n",
      "                                                  SimpleImputer(strategy='most_frequent')),\n",
      "             ...`\n",
      "\n",
      "2022/10/22 20:43:42 WARNING mlflow.utils: Truncated the value of the key `preprocess`. Truncated value: `ColumnTransformer(transformers=[('numeric',\n",
      "                                 Pipeline(steps=[('impute', SimpleImputer()),\n",
      "                                                 ('scale', StandardScaler())]),\n",
      "                                 ['trip_distance', 'fare_amount']),\n",
      "                                ('categoric',\n",
      "                                 Pipeline(steps=[('impute',\n",
      "                                                  SimpleImputer(strategy='most_frequent')),\n",
      "                             ...`\n",
      "\n"
     ]
    },
    {
     "name": "stdout",
     "output_type": "stream",
     "text": [
      " 96%|█████████▌| 48/50 [4:16:25<09:35, 287.65s/trial, best loss: 1.9062409545629415]"
     ]
    },
    {
     "name": "stderr",
     "output_type": "stream",
     "text": [
      "2022/10/22 20:48:37 WARNING mlflow.utils: Truncated the value of the key `steps`. Truncated value: `[('preprocess', ColumnTransformer(transformers=[('numeric',\n",
      "                                 Pipeline(steps=[('impute', SimpleImputer()),\n",
      "                                                 ('scale', StandardScaler())]),\n",
      "                                 ['trip_distance', 'fare_amount']),\n",
      "                                ('categoric',\n",
      "                                 Pipeline(steps=[('impute',\n",
      "                                                  SimpleImputer(strategy='most_frequent')),\n",
      "             ...`\n",
      "\n",
      "2022/10/22 20:48:37 WARNING mlflow.utils: Truncated the value of the key `preprocess`. Truncated value: `ColumnTransformer(transformers=[('numeric',\n",
      "                                 Pipeline(steps=[('impute', SimpleImputer()),\n",
      "                                                 ('scale', StandardScaler())]),\n",
      "                                 ['trip_distance', 'fare_amount']),\n",
      "                                ('categoric',\n",
      "                                 Pipeline(steps=[('impute',\n",
      "                                                  SimpleImputer(strategy='most_frequent')),\n",
      "                             ...`\n",
      "\n"
     ]
    },
    {
     "name": "stdout",
     "output_type": "stream",
     "text": [
      " 98%|█████████▊| 49/50 [4:21:20<04:49, 289.86s/trial, best loss: 1.9062409545629415]"
     ]
    },
    {
     "name": "stderr",
     "output_type": "stream",
     "text": [
      "2022/10/22 20:53:31 WARNING mlflow.utils: Truncated the value of the key `steps`. Truncated value: `[('preprocess', ColumnTransformer(transformers=[('numeric',\n",
      "                                 Pipeline(steps=[('impute', SimpleImputer()),\n",
      "                                                 ('scale', StandardScaler())]),\n",
      "                                 ['trip_distance', 'fare_amount']),\n",
      "                                ('categoric',\n",
      "                                 Pipeline(steps=[('impute',\n",
      "                                                  SimpleImputer(strategy='most_frequent')),\n",
      "             ...`\n",
      "\n",
      "2022/10/22 20:53:31 WARNING mlflow.utils: Truncated the value of the key `preprocess`. Truncated value: `ColumnTransformer(transformers=[('numeric',\n",
      "                                 Pipeline(steps=[('impute', SimpleImputer()),\n",
      "                                                 ('scale', StandardScaler())]),\n",
      "                                 ['trip_distance', 'fare_amount']),\n",
      "                                ('categoric',\n",
      "                                 Pipeline(steps=[('impute',\n",
      "                                                  SimpleImputer(strategy='most_frequent')),\n",
      "                             ...`\n",
      "\n"
     ]
    },
    {
     "name": "stdout",
     "output_type": "stream",
     "text": [
      "100%|██████████| 50/50 [4:26:18<00:00, 319.57s/trial, best loss: 1.9062409545629415]\n"
     ]
    }
   ],
   "source": [
    "def main(\n",
    "    train_path = 'data/green_tripdata_2021-01.parquet',\n",
    "    val_path = 'data/green_tripdata_2021-01.parquet',\n",
    "    tracking_uri = 'sqlite:///mlflow.db',\n",
    "    experiment = 'gradient-booster-experiment'\n",
    "):\n",
    "    mlflow.set_tracking_uri(tracking_uri)\n",
    "    mlflow.set_experiment(experiment)\n",
    "    train_path = 'data/green_tripdata_2021-01.parquet'\n",
    "    val_path = 'data/green_tripdata_2021-01.parquet'\n",
    "    df_train = pd.read_parquet(train_path)\n",
    "    df_val = pd.read_parquet(val_path)\n",
    "    X_train,y_train = cleaned_train_and_target(df_train,clean=True)\n",
    "    X_val, y_val = cleaned_train_and_target(df_val,clean=True)\n",
    "    hyperparameter_optimizer(X_train,y_train,X_val,y_val)\n",
    "    # train_best_model(train,valid,y_val,dv,scaler)\n",
    "\n",
    "main()"
   ]
  },
  {
   "cell_type": "code",
   "execution_count": null,
   "metadata": {},
   "outputs": [],
   "source": []
  }
 ],
 "metadata": {
  "kernelspec": {
   "display_name": "Python 3.10.6 ('mlops_bootcamp_env')",
   "language": "python",
   "name": "python3"
  },
  "language_info": {
   "codemirror_mode": {
    "name": "ipython",
    "version": 3
   },
   "file_extension": ".py",
   "mimetype": "text/x-python",
   "name": "python",
   "nbconvert_exporter": "python",
   "pygments_lexer": "ipython3",
   "version": "3.10.6"
  },
  "orig_nbformat": 4,
  "vscode": {
   "interpreter": {
    "hash": "a6ebbf5b3321ef5f103965d0d09ba8454b5052551113b1770cb3183594cae0ea"
   }
  }
 },
 "nbformat": 4,
 "nbformat_minor": 2
}
