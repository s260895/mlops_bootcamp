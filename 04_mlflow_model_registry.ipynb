{
 "cells": [
  {
   "cell_type": "code",
   "execution_count": 2,
   "metadata": {},
   "outputs": [],
   "source": [
    "from mlflow.tracking import MlflowClient\n",
    "\n",
    "MLFLOW_TRACKING_URI = \"sqlite:///mlflow.db\"\n",
    "\n",
    "client = MlflowClient(tracking_uri=MLFLOW_TRACKING_URI)"
   ]
  },
  {
   "cell_type": "code",
   "execution_count": 4,
   "metadata": {},
   "outputs": [
    {
     "data": {
      "text/plain": [
       "[<Experiment: artifact_location='./mlruns/1', creation_time=1666178202276, experiment_id='1', last_update_time=1666178202276, lifecycle_stage='active', name='nyc-taxi-duration-experiment', tags={}>,\n",
       " <Experiment: artifact_location='./mlruns/0', creation_time=None, experiment_id='0', last_update_time=None, lifecycle_stage='active', name='Default', tags={}>]"
      ]
     },
     "execution_count": 4,
     "metadata": {},
     "output_type": "execute_result"
    }
   ],
   "source": [
    "# List all experiments\n",
    "client.search_experiments()"
   ]
  },
  {
   "cell_type": "code",
   "execution_count": 5,
   "metadata": {},
   "outputs": [
    {
     "data": {
      "text/plain": [
       "'2'"
      ]
     },
     "execution_count": 5,
     "metadata": {},
     "output_type": "execute_result"
    }
   ],
   "source": [
    "# Create new experiment\n",
    "client.create_experiment(name='test_experiment')"
   ]
  },
  {
   "cell_type": "code",
   "execution_count": 9,
   "metadata": {},
   "outputs": [
    {
     "data": {
      "text/plain": [
       "[<Run: data=<RunData: metrics={'best_iteration': 999.0,\n",
       "  'rmse': 5.5807021969663255,\n",
       "  'stopped_iteration': 999.0,\n",
       "  'validation-rmse': 5.580702194003926}, params={'learning_rate': '0.1700079110741563',\n",
       "  'max_depth': '16',\n",
       "  'min_child_weight': '2.37717271395477',\n",
       "  'objective': 'reg:linear',\n",
       "  'reg_alpha': '0.363258077609188',\n",
       "  'reg_lambda': '0.011733914718256189',\n",
       "  'seed': '42'}, tags={'mlflow.log-model.history': '[{\"run_id\": \"a7b398d09b174d1d93f0d99e30d0c19a\", '\n",
       "                              '\"artifact_path\": \"model\", \"utc_time_created\": '\n",
       "                              '\"2022-10-20 09:13:17.621195\", \"flavors\": '\n",
       "                              '{\"python_function\": {\"loader_module\": '\n",
       "                              '\"mlflow.xgboost\", \"python_version\": \"3.9.13\", '\n",
       "                              '\"data\": \"model.xgb\", \"env\": \"conda.yaml\"}, '\n",
       "                              '\"xgboost\": {\"xgb_version\": \"1.6.2\", \"data\": '\n",
       "                              '\"model.xgb\", \"model_class\": '\n",
       "                              '\"xgboost.core.Booster\", \"code\": null}}, '\n",
       "                              '\"model_uuid\": '\n",
       "                              '\"8fb264559cef4bc6a0cd02a15afe1c9a\", '\n",
       "                              '\"mlflow_version\": \"1.29.0\"}, {\"run_id\": '\n",
       "                              '\"a7b398d09b174d1d93f0d99e30d0c19a\", '\n",
       "                              '\"artifact_path\": \"models_mlflow\", '\n",
       "                              '\"utc_time_created\": \"2022-10-20 '\n",
       "                              '09:13:20.036998\", \"flavors\": {\"python_function\": '\n",
       "                              '{\"loader_module\": \"mlflow.xgboost\", '\n",
       "                              '\"python_version\": \"3.9.13\", \"data\": \"model.xgb\", '\n",
       "                              '\"env\": \"conda.yaml\"}, \"xgboost\": {\"xgb_version\": '\n",
       "                              '\"1.6.2\", \"data\": \"model.xgb\", \"model_class\": '\n",
       "                              '\"xgboost.core.Booster\", \"code\": null}}, '\n",
       "                              '\"model_uuid\": '\n",
       "                              '\"a88b2f0786a849339137ce82b987947b\", '\n",
       "                              '\"mlflow_version\": \"1.29.0\"}]',\n",
       "  'mlflow.runName': 'indecisive-perch-367',\n",
       "  'mlflow.source.name': '/home/mlops/anaconda3/envs/mlops_bootcamp_env/lib/python3.9/site-packages/ipykernel_launcher.py',\n",
       "  'mlflow.source.type': 'LOCAL',\n",
       "  'mlflow.user': 'mlops'}>, info=<RunInfo: artifact_uri='./mlruns/1/a7b398d09b174d1d93f0d99e30d0c19a/artifacts', end_time=1666257201315, experiment_id='1', lifecycle_stage='active', run_id='a7b398d09b174d1d93f0d99e30d0c19a', run_uuid='a7b398d09b174d1d93f0d99e30d0c19a', start_time=1666257152586, status='FINISHED', user_id='mlops'>>,\n",
       " <Run: data=<RunData: metrics={'rmse': 5.5807021969663255}, params={'learning_rate': '0.1700079110741563',\n",
       "  'max_depth': '16',\n",
       "  'min_child_weight': '2.37717271395477',\n",
       "  'objective': 'reg:linear',\n",
       "  'reg_alpha': '0.363258077609188',\n",
       "  'reg_lambda': '0.011733914718256189',\n",
       "  'seed': '42'}, tags={'mlflow.log-model.history': '[{\"run_id\": \"cebea22b6d8e49b2b847098b22862940\", '\n",
       "                              '\"artifact_path\": \"models_mlflow\", '\n",
       "                              '\"utc_time_created\": \"2022-10-20 '\n",
       "                              '09:03:45.861798\", \"flavors\": {\"python_function\": '\n",
       "                              '{\"loader_module\": \"mlflow.xgboost\", '\n",
       "                              '\"python_version\": \"3.9.13\", \"data\": \"model.xgb\", '\n",
       "                              '\"env\": \"conda.yaml\"}, \"xgboost\": {\"xgb_version\": '\n",
       "                              '\"1.6.2\", \"data\": \"model.xgb\", \"model_class\": '\n",
       "                              '\"xgboost.core.Booster\", \"code\": null}}, '\n",
       "                              '\"model_uuid\": '\n",
       "                              '\"9de9a8db77104a46925658c80b2d6181\", '\n",
       "                              '\"mlflow_version\": \"1.29.0\"}]',\n",
       "  'mlflow.runName': 'amazing-rook-871',\n",
       "  'mlflow.source.name': '/home/mlops/anaconda3/envs/mlops_bootcamp_env/lib/python3.9/site-packages/ipykernel_launcher.py',\n",
       "  'mlflow.source.type': 'LOCAL',\n",
       "  'mlflow.user': 'mlops'}>, info=<RunInfo: artifact_uri='./mlruns/1/cebea22b6d8e49b2b847098b22862940/artifacts', end_time=1666256627099, experiment_id='1', lifecycle_stage='active', run_id='cebea22b6d8e49b2b847098b22862940', run_uuid='cebea22b6d8e49b2b847098b22862940', start_time=1666256590584, status='FINISHED', user_id='mlops'>>,\n",
       " <Run: data=<RunData: metrics={'rmse': 5.5807021969663255}, params={'learning_rate': '0.1700079110741563',\n",
       "  'max_depth': '16',\n",
       "  'min_child_weight': '2.37717271395477',\n",
       "  'objective': 'reg:linear',\n",
       "  'reg_alpha': '0.363258077609188',\n",
       "  'reg_lambda': '0.011733914718256189',\n",
       "  'seed': '42'}, tags={'mlflow.log-model.history': '[{\"run_id\": \"696604acf6644efd9a32a16fd955bc91\", '\n",
       "                              '\"artifact_path\": \"models_mlflow\", '\n",
       "                              '\"utc_time_created\": \"2022-10-20 '\n",
       "                              '08:56:05.315528\", \"flavors\": {\"python_function\": '\n",
       "                              '{\"loader_module\": \"mlflow.xgboost\", '\n",
       "                              '\"python_version\": \"3.9.13\", \"data\": \"model.xgb\", '\n",
       "                              '\"env\": \"conda.yaml\"}, \"xgboost\": {\"xgb_version\": '\n",
       "                              '\"1.6.2\", \"data\": \"model.xgb\", \"model_class\": '\n",
       "                              '\"xgboost.core.Booster\", \"code\": null}}, '\n",
       "                              '\"model_uuid\": '\n",
       "                              '\"1656de722ecd42fb80c66289c374f312\", '\n",
       "                              '\"mlflow_version\": \"1.29.0\"}]',\n",
       "  'mlflow.runName': 'fortunate-crane-434',\n",
       "  'mlflow.source.name': '/home/mlops/anaconda3/envs/mlops_bootcamp_env/lib/python3.9/site-packages/ipykernel_launcher.py',\n",
       "  'mlflow.source.type': 'LOCAL',\n",
       "  'mlflow.user': 'mlops'}>, info=<RunInfo: artifact_uri='./mlruns/1/696604acf6644efd9a32a16fd955bc91/artifacts', end_time=1666256166667, experiment_id='1', lifecycle_stage='active', run_id='696604acf6644efd9a32a16fd955bc91', run_uuid='696604acf6644efd9a32a16fd955bc91', start_time=1666256132161, status='FINISHED', user_id='mlops'>>,\n",
       " <Run: data=<RunData: metrics={'rmse': 5.5807021969663255}, params={'learning_rate': '0.1700079110741563',\n",
       "  'max_depth': '16',\n",
       "  'min_child_weight': '2.37717271395477',\n",
       "  'objective': 'reg:linear',\n",
       "  'reg_alpha': '0.363258077609188',\n",
       "  'reg_lambda': '0.011733914718256189',\n",
       "  'seed': '42'}, tags={'mlflow.runName': 'inquisitive-moth-941',\n",
       "  'mlflow.source.name': '/home/mlops/anaconda3/envs/mlops_bootcamp_env/lib/python3.9/site-packages/ipykernel_launcher.py',\n",
       "  'mlflow.source.type': 'LOCAL',\n",
       "  'mlflow.user': 'mlops',\n",
       "  'model': 'xgboost'}>, info=<RunInfo: artifact_uri='./mlruns/1/74e4bd263aef42f3a5cdb7124add9118/artifacts', end_time=1666185250806, experiment_id='1', lifecycle_stage='active', run_id='74e4bd263aef42f3a5cdb7124add9118', run_uuid='74e4bd263aef42f3a5cdb7124add9118', start_time=1666185035544, status='FINISHED', user_id='mlops'>>,\n",
       " <Run: data=<RunData: metrics={'rmse': 5.612994200649029}, params={'learning_rate': '0.11662661065663692',\n",
       "  'max_depth': '11',\n",
       "  'min_child_weight': '8.910818714171286',\n",
       "  'objective': 'reg:linear',\n",
       "  'reg_alpha': '0.2076266412917079',\n",
       "  'reg_lambda': '0.0074006823562676955',\n",
       "  'seed': '42'}, tags={'mlflow.runName': 'bouncy-mink-302',\n",
       "  'mlflow.source.name': '/home/mlops/anaconda3/envs/mlops_bootcamp_env/lib/python3.9/site-packages/ipykernel_launcher.py',\n",
       "  'mlflow.source.type': 'LOCAL',\n",
       "  'mlflow.user': 'mlops',\n",
       "  'model': 'xgboost'}>, info=<RunInfo: artifact_uri='./mlruns/1/c688a40018f441f9b2308cb06fa3b5c8/artifacts', end_time=1666184420483, experiment_id='1', lifecycle_stage='active', run_id='c688a40018f441f9b2308cb06fa3b5c8', run_uuid='c688a40018f441f9b2308cb06fa3b5c8', start_time=1666184239621, status='FINISHED', user_id='mlops'>>]"
      ]
     },
     "execution_count": 9,
     "metadata": {},
     "output_type": "execute_result"
    }
   ],
   "source": [
    "from mlflow.entities import ViewType\n",
    "# List all runs\n",
    "client.search_runs(\n",
    "    experiment_ids=1,\n",
    "    filter_string='metrics.rmse < 6',\n",
    "    run_view_type=ViewType.ACTIVE_ONLY,\n",
    "    max_results = 5,\n",
    "    order_by=['metrics.rmse ASC']\n",
    ")"
   ]
  },
  {
   "cell_type": "code",
   "execution_count": 10,
   "metadata": {},
   "outputs": [],
   "source": [
    "import mlflow\n",
    "mlflow.set_tracking_uri(MLFLOW_TRACKING_URI)"
   ]
  },
  {
   "cell_type": "code",
   "execution_count": 11,
   "metadata": {},
   "outputs": [
    {
     "name": "stderr",
     "output_type": "stream",
     "text": [
      "Registered model 'nyc-taxi-regressor' already exists. Creating a new version of this model...\n",
      "2022/10/20 09:58:33 INFO mlflow.tracking._model_registry.client: Waiting up to 300 seconds for model version to finish creation.                     Model name: nyc-taxi-regressor, version 3\n",
      "Created version '3' of model 'nyc-taxi-regressor'.\n"
     ]
    },
    {
     "data": {
      "text/plain": [
       "<ModelVersion: creation_timestamp=1666259910331, current_stage='None', description=None, last_updated_timestamp=1666259910331, name='nyc-taxi-regressor', run_id='a7b398d09b174d1d93f0d99e30d0c19a', run_link=None, source='./mlruns/1/a7b398d09b174d1d93f0d99e30d0c19a/artifacts/model', status='READY', status_message=None, tags={}, user_id=None, version=3>"
      ]
     },
     "execution_count": 11,
     "metadata": {},
     "output_type": "execute_result"
    }
   ],
   "source": [
    "# Register Model into model registry\n",
    "model_uri = 'runs:/a7b398d09b174d1d93f0d99e30d0c19a/model'\n",
    "mlflow.register_model(model_uri=model_uri,name='nyc-taxi-regressor')"
   ]
  },
  {
   "cell_type": "code",
   "execution_count": 12,
   "metadata": {},
   "outputs": [
    {
     "data": {
      "text/plain": [
       "[<RegisteredModel: creation_timestamp=1666258302312, description='', last_updated_timestamp=1666259910331, latest_versions=[<ModelVersion: creation_timestamp=1666258352060, current_stage='Staging', description='', last_updated_timestamp=1666258544017, name='nyc-taxi-regressor', run_id='696604acf6644efd9a32a16fd955bc91', run_link='', source='./mlruns/1/696604acf6644efd9a32a16fd955bc91/artifacts/models_mlflow', status='READY', status_message=None, tags={}, user_id=None, version=2>,\n",
       "  <ModelVersion: creation_timestamp=1666259910331, current_stage='None', description=None, last_updated_timestamp=1666259910331, name='nyc-taxi-regressor', run_id='a7b398d09b174d1d93f0d99e30d0c19a', run_link=None, source='./mlruns/1/a7b398d09b174d1d93f0d99e30d0c19a/artifacts/model', status='READY', status_message=None, tags={}, user_id=None, version=3>], name='nyc-taxi-regressor', tags={}>]"
      ]
     },
     "execution_count": 12,
     "metadata": {},
     "output_type": "execute_result"
    }
   ],
   "source": [
    "# List all registered models\n",
    "client.search_registered_models()"
   ]
  },
  {
   "cell_type": "code",
   "execution_count": 14,
   "metadata": {},
   "outputs": [
    {
     "data": {
      "text/plain": [
       "<ModelVersion: creation_timestamp=1666259910331, current_stage='Staging', description=None, last_updated_timestamp=1666260584870, name='nyc-taxi-regressor', run_id='a7b398d09b174d1d93f0d99e30d0c19a', run_link=None, source='./mlruns/1/a7b398d09b174d1d93f0d99e30d0c19a/artifacts/model', status='READY', status_message=None, tags={}, user_id=None, version=3>"
      ]
     },
     "execution_count": 14,
     "metadata": {},
     "output_type": "execute_result"
    }
   ],
   "source": [
    "# Transition model btw staged production and archive\n",
    "client.transition_model_version_stage(\n",
    "    name = 'nyc-taxi-regressor',\n",
    "    version=3,\n",
    "    stage = 'Staging',\n",
    "    archive_existing_versions=False\n",
    ")"
   ]
  },
  {
   "cell_type": "code",
   "execution_count": 19,
   "metadata": {},
   "outputs": [],
   "source": [
    "from sklearn.metrics import mean_squared_error\n",
    "import pandas as pd\n",
    "\n",
    "# define function to clean dataset\n",
    "def clean(filename):\n",
    "    df = pd.read_parquet(filename)\n",
    "    df['duration'] = df.lpep_dropoff_datetime - df.lpep_pickup_datetime\n",
    "    df['duration'] = df.duration.apply(lambda td: td.total_seconds()/60)\n",
    "    df = df[(df.duration >= 1) & (df.duration <= 60)]\n",
    "    df = df[(df.trip_distance > 1)&(df.trip_distance < 25)]\n",
    "    df = df[(df.total_amount > 1)&(df.total_amount < 150)]\n",
    "    df = df[df['passenger_count'] != 0]  \n",
    "    df['PU_DO_pair'] = df['PULocationID'].astype(str) + '_' + df['DOLocationID'].astype(str)\n",
    "    return df\n",
    "\n",
    "def preprocess(df,scaler,dv):\n",
    "    categorical = ['PU_DO_pair']\n",
    "    numerical = ['trip_distance','fare_amount']\n",
    "    target = 'duration'\n",
    "    # Pre Processing - Numerical\n",
    "    df[numerical] = scaler.transform(df[numerical])\n",
    "    # Pre Processing - Categorical\n",
    "    df[categorical] = df[categorical].astype(str)\n",
    "    val_dicts = df[categorical+numerical].to_dict(orient='records')\n",
    "    X = dv.transform(val_dicts)\n",
    "    y = df[target].values\n",
    "    return X,y\n",
    "    \n",
    "def test_model(name, stage, X_test, y_test):\n",
    "    model = mlflow.pyfunc.load_model(f\"models:/{name}/{stage}\")\n",
    "    y_pred = model.predict(X_test)\n",
    "    return{'rmse': mean_squared_error(y_test,y_pred,squared=False)}\n"
   ]
  },
  {
   "cell_type": "code",
   "execution_count": 18,
   "metadata": {},
   "outputs": [],
   "source": [
    "df = clean('./data/green_tripdata_2021-03.parquet')"
   ]
  },
  {
   "cell_type": "code",
   "execution_count": 20,
   "metadata": {},
   "outputs": [],
   "source": [
    "import pickle\n",
    "\n",
    "with open('./models/scaler.b','rb') as f_in:\n",
    "    scaler = pickle.load(f_in)\n",
    "\n",
    "with open('./models/vectorizer.b','rb') as f_in:\n",
    "    dv = pickle.load(f_in)\n",
    "\n",
    "X_test, y_test = preprocess(df,scaler,dv)"
   ]
  },
  {
   "cell_type": "code",
   "execution_count": 23,
   "metadata": {},
   "outputs": [
    {
     "name": "stdout",
     "output_type": "stream",
     "text": [
      "[10:43:17] WARNING: ../src/objective/regression_obj.cu:203: reg:linear is now deprecated in favor of reg:squarederror.\n",
      "CPU times: user 5.51 s, sys: 0 ns, total: 5.51 s\n",
      "Wall time: 571 ms\n"
     ]
    },
    {
     "data": {
      "text/plain": [
       "{'rmse': 5.579155130005743}"
      ]
     },
     "execution_count": 23,
     "metadata": {},
     "output_type": "execute_result"
    }
   ],
   "source": [
    "%time test_model(name='nyc-taxi-regressor',stage='Staging',X_test=X_test,y_test=y_test)"
   ]
  },
  {
   "cell_type": "code",
   "execution_count": null,
   "metadata": {},
   "outputs": [],
   "source": []
  }
 ],
 "metadata": {
  "kernelspec": {
   "display_name": "mlops_bootcamp_env",
   "language": "python",
   "name": "python3"
  },
  "language_info": {
   "codemirror_mode": {
    "name": "ipython",
    "version": 3
   },
   "file_extension": ".py",
   "mimetype": "text/x-python",
   "name": "python",
   "nbconvert_exporter": "python",
   "pygments_lexer": "ipython3",
   "version": "3.9.13"
  },
  "orig_nbformat": 4,
  "vscode": {
   "interpreter": {
    "hash": "ace04144321c419ba8ecb4b8a46fd516f2cc21242eec6d03b20ff39e2c0b2815"
   }
  }
 },
 "nbformat": 4,
 "nbformat_minor": 2
}
