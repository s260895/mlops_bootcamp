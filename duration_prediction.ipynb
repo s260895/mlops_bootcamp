{
 "cells": [
  {
   "cell_type": "code",
   "execution_count": 1,
   "id": "3c28f100",
   "metadata": {},
   "outputs": [
    {
     "name": "stdout",
     "output_type": "stream",
     "text": [
      "Python 3.9.13\n"
     ]
    }
   ],
   "source": [
    "!python -V"
   ]
  },
  {
   "cell_type": "code",
   "execution_count": 2,
   "id": "d880249b",
   "metadata": {},
   "outputs": [],
   "source": [
    "import pandas as pd\n",
    "import seaborn as sns\n",
    "from sklearn.feature_extraction import DictVectorizer\n",
    "from sklearn.preprocessing import StandardScaler\n",
    "from sklearn.linear_model import LinearRegression\n",
    "from sklearn.linear_model import Lasso\n",
    "from sklearn.linear_model import Ridge\n",
    "import matplotlib.pyplot as plt\n",
    "from sklearn.metrics import mean_squared_error\n",
    "import pickle\n",
    "\n",
    "import mlflow\n",
    "mlflow.set_tracking_uri('sqlite:///mlflow.db')\n",
    "mlflow.set_experiment('nyc-taxi-duration-experiment')\n",
    "\n",
    "import xgboost as xgb\n",
    "from hyperopt import fmin, tpe, hp, STATUS_OK, Trials\n",
    "from hyperopt.pyll import scope\n",
    "\n"
   ]
  },
  {
   "cell_type": "code",
   "execution_count": 3,
   "id": "01f3157c",
   "metadata": {},
   "outputs": [],
   "source": [
    "def read_and_clean(df):\n",
    "    df['duration'] = df.lpep_dropoff_datetime - df.lpep_pickup_datetime\n",
    "    df['duration'] = df.duration.apply(lambda td: td.total_seconds()/60)\n",
    "    df = df[(df.duration >= 1) & (df.duration <= 60)]\n",
    "    df = df[(df.trip_distance > 1)&(df.trip_distance < 25)]\n",
    "    df = df[(df.total_amount > 1)&(df.total_amount < 150)]\n",
    "    df = df[df['passenger_count'] != 0]  \n",
    "    df['PU_DO_pair'] = df['PULocationID'].astype(str) + '_' + df['DOLocationID'].astype(str)\n",
    "    return df"
   ]
  },
  {
   "cell_type": "code",
   "execution_count": 4,
   "id": "6edc3642",
   "metadata": {},
   "outputs": [],
   "source": [
    "df_train = pd.read_parquet('./data/green_tripdata_2021-01.parquet')\n",
    "df_val = pd.read_parquet('./data/green_tripdata_2021-02.parquet')"
   ]
  },
  {
   "cell_type": "code",
   "execution_count": 5,
   "id": "e5f5f0d5",
   "metadata": {},
   "outputs": [],
   "source": [
    "df_train = read_and_clean(df_train)\n",
    "df_val = read_and_clean(df_val)"
   ]
  },
  {
   "cell_type": "code",
   "execution_count": 6,
   "id": "50872615",
   "metadata": {},
   "outputs": [
    {
     "data": {
      "text/plain": [
       "(61515, 51622)"
      ]
     },
     "execution_count": 6,
     "metadata": {},
     "output_type": "execute_result"
    }
   ],
   "source": [
    "len(df_train),len(df_val)"
   ]
  },
  {
   "cell_type": "code",
   "execution_count": 7,
   "id": "498badf1",
   "metadata": {},
   "outputs": [],
   "source": [
    "categorical = ['PU_DO_pair']\n",
    "# ['PULocationID','DOLocationID']\n",
    "numerical = ['trip_distance','fare_amount']\n",
    "target = 'duration'\n",
    "# Pre Processing - Numerical\n",
    "scaler = StandardScaler()\n",
    "df_train[numerical] = scaler.fit_transform(df_train[numerical])\n",
    "df_val[numerical] = scaler.transform(df_val[numerical])\n",
    "train_dicts = df_train[categorical+numerical].to_dict(orient='records')\n",
    "val_dicts = df_val[categorical+numerical].to_dict(orient='records')\n",
    "# Pre Processing - Categorical\n",
    "df_train[categorical] = df_train[categorical].astype(str)\n",
    "df_val[categorical] = df_val[categorical].astype(str)\n",
    "dv = DictVectorizer()\n",
    "X_train = dv.fit_transform(train_dicts)\n",
    "y_train = df_train[target].values\n",
    "X_val = dv.transform(val_dicts)\n",
    "y_val = df_val[target].values"
   ]
  },
  {
   "cell_type": "code",
   "execution_count": 8,
   "id": "17c4e07a",
   "metadata": {},
   "outputs": [],
   "source": [
    "linear_model = LinearRegression()\n",
    "linear_model.fit(X_train,y_train)\n",
    "y_pred_linear = linear_model.predict(X_val)\n",
    "mean_squared_error(y_val,y_pred_linear,squared=False)\n",
    "with open('models/linear_model.bin','wb') as f_out:\n",
    "    pickle.dump((scaler,dv,linear_model),f_out)"
   ]
  },
  {
   "cell_type": "code",
   "execution_count": 9,
   "id": "fa309657",
   "metadata": {
    "scrolled": true
   },
   "outputs": [],
   "source": [
    "ridge_model = Ridge(alpha=0.0001)\n",
    "ridge_model.fit(X_train,y_train)\n",
    "y_pred_ridge = ridge_model.predict(X_val)\n",
    "mean_squared_error(y_val,y_pred_ridge,squared=False)\n",
    "with open('models/ridge_model.bin','wb') as f_out:\n",
    "    pickle.dump((scaler,dv,ridge_model),f_out)"
   ]
  },
  {
   "cell_type": "code",
   "execution_count": 10,
   "id": "f467e642",
   "metadata": {},
   "outputs": [],
   "source": [
    "lasso_model = Lasso(alpha=0.0001)\n",
    "lasso_model.fit(X_train,y_train)\n",
    "y_pred_lasso = lasso_model.predict(X_val)\n",
    "mean_squared_error(y_val,y_pred_lasso,squared=False)\n",
    "with open('models/lasso_model.bin','wb') as f_out:\n",
    "    pickle.dump((scaler,dv,lasso_model),f_out)"
   ]
  },
  {
   "cell_type": "code",
   "execution_count": 11,
   "id": "444c70cf",
   "metadata": {},
   "outputs": [],
   "source": [
    "# Track single trial in an MLFlow epxeriment\n",
    "with mlflow.start_run():\n",
    "\n",
    "    mlflow.set_tag('developer','sam')\n",
    "\n",
    "    mlflow.log_param('train-data-path','./data/green_tripdata_2021-01.parquet')\n",
    "    mlflow.log_param('val-data-path','./data/green_tripdata_2021-02.parquet')\n",
    "\n",
    "    alpha = 10\n",
    "    mlflow.log_param('alpha',alpha)\n",
    "    lasso_model = Lasso(alpha=alpha)\n",
    "    lasso_model.fit(X_train,y_train)\n",
    "    y_pred_lasso = lasso_model.predict(X_val)\n",
    "    rmse = mean_squared_error(y_val,y_pred_lasso,squared=False)\n",
    "    mlflow.log_metric('rmse',rmse)"
   ]
  },
  {
   "cell_type": "code",
   "execution_count": 12,
   "id": "8b83bf59",
   "metadata": {},
   "outputs": [],
   "source": [
    "train = xgb.DMatrix(X_train,label=y_train)\n",
    "valid = xgb.DMatrix(X_val, label = y_val)"
   ]
  },
  {
   "cell_type": "code",
   "execution_count": 13,
   "id": "9f5fb641",
   "metadata": {},
   "outputs": [],
   "source": [
    "def objective(params):\n",
    "    with mlflow.start_run():\n",
    "        mlflow.set_tag('model','xgboost')\n",
    "        mlflow.log_params(params)\n",
    "        xgb_model = xgb.train(\n",
    "            params = params,\n",
    "            dtrain=train,\n",
    "            num_boost_round=1000,\n",
    "            evals=[(valid,'validation')],\n",
    "            early_stopping_rounds=50\n",
    "        )\n",
    "        y_pred = xgb_model.predict(valid)\n",
    "        rmse = mean_squared_error(y_val,y_pred,squared=False)\n",
    "        mlflow.log_metric('rmse',rmse)\n",
    "\n",
    "    return {'loss':rmse,'status':STATUS_OK}"
   ]
  },
  {
   "cell_type": "code",
   "execution_count": 14,
   "id": "ec4ef301",
   "metadata": {},
   "outputs": [
    {
     "ename": "DuplicateLabel",
     "evalue": "reg_alpha",
     "output_type": "error",
     "traceback": [
      "\u001b[0;31m---------------------------------------------------------------------------\u001b[0m",
      "\u001b[0;31mDuplicateLabel\u001b[0m                            Traceback (most recent call last)",
      "Cell \u001b[0;32mIn [14], line 11\u001b[0m\n\u001b[1;32m      1\u001b[0m search_space \u001b[39m=\u001b[39m {\n\u001b[1;32m      2\u001b[0m     \u001b[39m'\u001b[39m\u001b[39mmax_depth\u001b[39m\u001b[39m'\u001b[39m:scope\u001b[39m.\u001b[39mint(hp\u001b[39m.\u001b[39mquniform(\u001b[39m'\u001b[39m\u001b[39mmax_depth\u001b[39m\u001b[39m'\u001b[39m,\u001b[39m4\u001b[39m,\u001b[39m100\u001b[39m,\u001b[39m1\u001b[39m)),\n\u001b[1;32m      3\u001b[0m     \u001b[39m'\u001b[39m\u001b[39mlearning_rate\u001b[39m\u001b[39m'\u001b[39m:hp\u001b[39m.\u001b[39mloguniform(\u001b[39m'\u001b[39m\u001b[39mlearning_rate\u001b[39m\u001b[39m'\u001b[39m,\u001b[39m-\u001b[39m\u001b[39m3\u001b[39m,\u001b[39m0\u001b[39m),\n\u001b[0;32m   (...)\u001b[0m\n\u001b[1;32m      8\u001b[0m     \u001b[39m'\u001b[39m\u001b[39mseed\u001b[39m\u001b[39m'\u001b[39m:\u001b[39m42\u001b[39m\n\u001b[1;32m      9\u001b[0m }\n\u001b[0;32m---> 11\u001b[0m best_result \u001b[39m=\u001b[39m fmin(\n\u001b[1;32m     12\u001b[0m     fn \u001b[39m=\u001b[39;49m objective,\n\u001b[1;32m     13\u001b[0m     space \u001b[39m=\u001b[39;49m search_space,\n\u001b[1;32m     14\u001b[0m     algo \u001b[39m=\u001b[39;49m tpe\u001b[39m.\u001b[39;49msuggest,\n\u001b[1;32m     15\u001b[0m     max_evals\u001b[39m=\u001b[39;49m\u001b[39m50\u001b[39;49m,\n\u001b[1;32m     16\u001b[0m     trials \u001b[39m=\u001b[39;49m Trials()\n\u001b[1;32m     17\u001b[0m )\n",
      "File \u001b[0;32m~/anaconda3/envs/mlops_bootcamp_env/lib/python3.9/site-packages/hyperopt/fmin.py:540\u001b[0m, in \u001b[0;36mfmin\u001b[0;34m(fn, space, algo, max_evals, timeout, loss_threshold, trials, rstate, allow_trials_fmin, pass_expr_memo_ctrl, catch_eval_exceptions, verbose, return_argmin, points_to_evaluate, max_queue_len, show_progressbar, early_stop_fn, trials_save_file)\u001b[0m\n\u001b[1;32m    537\u001b[0m     fn \u001b[39m=\u001b[39m __objective_fmin_wrapper(fn)\n\u001b[1;32m    539\u001b[0m \u001b[39mif\u001b[39;00m allow_trials_fmin \u001b[39mand\u001b[39;00m \u001b[39mhasattr\u001b[39m(trials, \u001b[39m\"\u001b[39m\u001b[39mfmin\u001b[39m\u001b[39m\"\u001b[39m):\n\u001b[0;32m--> 540\u001b[0m     \u001b[39mreturn\u001b[39;00m trials\u001b[39m.\u001b[39;49mfmin(\n\u001b[1;32m    541\u001b[0m         fn,\n\u001b[1;32m    542\u001b[0m         space,\n\u001b[1;32m    543\u001b[0m         algo\u001b[39m=\u001b[39;49malgo,\n\u001b[1;32m    544\u001b[0m         max_evals\u001b[39m=\u001b[39;49mmax_evals,\n\u001b[1;32m    545\u001b[0m         timeout\u001b[39m=\u001b[39;49mtimeout,\n\u001b[1;32m    546\u001b[0m         loss_threshold\u001b[39m=\u001b[39;49mloss_threshold,\n\u001b[1;32m    547\u001b[0m         max_queue_len\u001b[39m=\u001b[39;49mmax_queue_len,\n\u001b[1;32m    548\u001b[0m         rstate\u001b[39m=\u001b[39;49mrstate,\n\u001b[1;32m    549\u001b[0m         pass_expr_memo_ctrl\u001b[39m=\u001b[39;49mpass_expr_memo_ctrl,\n\u001b[1;32m    550\u001b[0m         verbose\u001b[39m=\u001b[39;49mverbose,\n\u001b[1;32m    551\u001b[0m         catch_eval_exceptions\u001b[39m=\u001b[39;49mcatch_eval_exceptions,\n\u001b[1;32m    552\u001b[0m         return_argmin\u001b[39m=\u001b[39;49mreturn_argmin,\n\u001b[1;32m    553\u001b[0m         show_progressbar\u001b[39m=\u001b[39;49mshow_progressbar,\n\u001b[1;32m    554\u001b[0m         early_stop_fn\u001b[39m=\u001b[39;49mearly_stop_fn,\n\u001b[1;32m    555\u001b[0m         trials_save_file\u001b[39m=\u001b[39;49mtrials_save_file,\n\u001b[1;32m    556\u001b[0m     )\n\u001b[1;32m    558\u001b[0m \u001b[39mif\u001b[39;00m trials \u001b[39mis\u001b[39;00m \u001b[39mNone\u001b[39;00m:\n\u001b[1;32m    559\u001b[0m     \u001b[39mif\u001b[39;00m os\u001b[39m.\u001b[39mpath\u001b[39m.\u001b[39mexists(trials_save_file):\n",
      "File \u001b[0;32m~/anaconda3/envs/mlops_bootcamp_env/lib/python3.9/site-packages/hyperopt/base.py:671\u001b[0m, in \u001b[0;36mTrials.fmin\u001b[0;34m(self, fn, space, algo, max_evals, timeout, loss_threshold, max_queue_len, rstate, verbose, pass_expr_memo_ctrl, catch_eval_exceptions, return_argmin, show_progressbar, early_stop_fn, trials_save_file)\u001b[0m\n\u001b[1;32m    666\u001b[0m \u001b[39m# -- Stop-gap implementation!\u001b[39;00m\n\u001b[1;32m    667\u001b[0m \u001b[39m#    fmin should have been a Trials method in the first place\u001b[39;00m\n\u001b[1;32m    668\u001b[0m \u001b[39m#    but for now it's still sitting in another file.\u001b[39;00m\n\u001b[1;32m    669\u001b[0m \u001b[39mfrom\u001b[39;00m \u001b[39m.\u001b[39;00m\u001b[39mfmin\u001b[39;00m \u001b[39mimport\u001b[39;00m fmin\n\u001b[0;32m--> 671\u001b[0m \u001b[39mreturn\u001b[39;00m fmin(\n\u001b[1;32m    672\u001b[0m     fn,\n\u001b[1;32m    673\u001b[0m     space,\n\u001b[1;32m    674\u001b[0m     algo\u001b[39m=\u001b[39;49malgo,\n\u001b[1;32m    675\u001b[0m     max_evals\u001b[39m=\u001b[39;49mmax_evals,\n\u001b[1;32m    676\u001b[0m     timeout\u001b[39m=\u001b[39;49mtimeout,\n\u001b[1;32m    677\u001b[0m     loss_threshold\u001b[39m=\u001b[39;49mloss_threshold,\n\u001b[1;32m    678\u001b[0m     trials\u001b[39m=\u001b[39;49m\u001b[39mself\u001b[39;49m,\n\u001b[1;32m    679\u001b[0m     rstate\u001b[39m=\u001b[39;49mrstate,\n\u001b[1;32m    680\u001b[0m     verbose\u001b[39m=\u001b[39;49mverbose,\n\u001b[1;32m    681\u001b[0m     max_queue_len\u001b[39m=\u001b[39;49mmax_queue_len,\n\u001b[1;32m    682\u001b[0m     allow_trials_fmin\u001b[39m=\u001b[39;49m\u001b[39mFalse\u001b[39;49;00m,  \u001b[39m# -- prevent recursion\u001b[39;49;00m\n\u001b[1;32m    683\u001b[0m     pass_expr_memo_ctrl\u001b[39m=\u001b[39;49mpass_expr_memo_ctrl,\n\u001b[1;32m    684\u001b[0m     catch_eval_exceptions\u001b[39m=\u001b[39;49mcatch_eval_exceptions,\n\u001b[1;32m    685\u001b[0m     return_argmin\u001b[39m=\u001b[39;49mreturn_argmin,\n\u001b[1;32m    686\u001b[0m     show_progressbar\u001b[39m=\u001b[39;49mshow_progressbar,\n\u001b[1;32m    687\u001b[0m     early_stop_fn\u001b[39m=\u001b[39;49mearly_stop_fn,\n\u001b[1;32m    688\u001b[0m     trials_save_file\u001b[39m=\u001b[39;49mtrials_save_file,\n\u001b[1;32m    689\u001b[0m )\n",
      "File \u001b[0;32m~/anaconda3/envs/mlops_bootcamp_env/lib/python3.9/site-packages/hyperopt/fmin.py:567\u001b[0m, in \u001b[0;36mfmin\u001b[0;34m(fn, space, algo, max_evals, timeout, loss_threshold, trials, rstate, allow_trials_fmin, pass_expr_memo_ctrl, catch_eval_exceptions, verbose, return_argmin, points_to_evaluate, max_queue_len, show_progressbar, early_stop_fn, trials_save_file)\u001b[0m\n\u001b[1;32m    564\u001b[0m         \u001b[39massert\u001b[39;00m \u001b[39mtype\u001b[39m(points_to_evaluate) \u001b[39m==\u001b[39m \u001b[39mlist\u001b[39m\n\u001b[1;32m    565\u001b[0m         trials \u001b[39m=\u001b[39m generate_trials_to_calculate(points_to_evaluate)\n\u001b[0;32m--> 567\u001b[0m domain \u001b[39m=\u001b[39m base\u001b[39m.\u001b[39;49mDomain(fn, space, pass_expr_memo_ctrl\u001b[39m=\u001b[39;49mpass_expr_memo_ctrl)\n\u001b[1;32m    569\u001b[0m rval \u001b[39m=\u001b[39m FMinIter(\n\u001b[1;32m    570\u001b[0m     algo,\n\u001b[1;32m    571\u001b[0m     domain,\n\u001b[0;32m   (...)\u001b[0m\n\u001b[1;32m    581\u001b[0m     trials_save_file\u001b[39m=\u001b[39mtrials_save_file,\n\u001b[1;32m    582\u001b[0m )\n\u001b[1;32m    583\u001b[0m rval\u001b[39m.\u001b[39mcatch_eval_exceptions \u001b[39m=\u001b[39m catch_eval_exceptions\n",
      "File \u001b[0;32m~/anaconda3/envs/mlops_bootcamp_env/lib/python3.9/site-packages/hyperopt/base.py:827\u001b[0m, in \u001b[0;36mDomain.__init__\u001b[0;34m(self, fn, expr, workdir, pass_expr_memo_ctrl, name, loss_target)\u001b[0m\n\u001b[1;32m    825\u001b[0m         label \u001b[39m=\u001b[39m node\u001b[39m.\u001b[39marg[\u001b[39m\"\u001b[39m\u001b[39mlabel\u001b[39m\u001b[39m\"\u001b[39m]\u001b[39m.\u001b[39mobj\n\u001b[1;32m    826\u001b[0m         \u001b[39mif\u001b[39;00m label \u001b[39min\u001b[39;00m \u001b[39mself\u001b[39m\u001b[39m.\u001b[39mparams:\n\u001b[0;32m--> 827\u001b[0m             \u001b[39mraise\u001b[39;00m DuplicateLabel(label)\n\u001b[1;32m    828\u001b[0m         \u001b[39mself\u001b[39m\u001b[39m.\u001b[39mparams[label] \u001b[39m=\u001b[39m node\u001b[39m.\u001b[39marg[\u001b[39m\"\u001b[39m\u001b[39mobj\u001b[39m\u001b[39m\"\u001b[39m]\n\u001b[1;32m    830\u001b[0m \u001b[39mself\u001b[39m\u001b[39m.\u001b[39mloss_target \u001b[39m=\u001b[39m loss_target\n",
      "\u001b[0;31mDuplicateLabel\u001b[0m: reg_alpha"
     ]
    }
   ],
   "source": [
    "search_space = {\n",
    "    'max_depth':scope.int(hp.quniform('max_depth',4,100,1)),\n",
    "    'learning_rate':hp.loguniform('learning_rate',-3,0),\n",
    "    'reg_alpha':hp.loguniform('reg_alpha',-5,-1),\n",
    "    'reg_lambda':hp.loguniform('reg_lambda',-6,-1),\n",
    "    'min_child_weight':hp.loguniform('min_child_weight',-1,3),\n",
    "    'objective':'reg:linear',\n",
    "    'seed':42\n",
    "}\n",
    "\n",
    "best_result = fmin(\n",
    "    fn = objective,\n",
    "    space = search_space,\n",
    "    algo = tpe.suggest,\n",
    "    max_evals=50,\n",
    "    trials = Trials()\n",
    ")"
   ]
  },
  {
   "cell_type": "code",
   "execution_count": null,
   "id": "deb8a64d",
   "metadata": {},
   "outputs": [],
   "source": []
  }
 ],
 "metadata": {
  "kernelspec": {
   "display_name": "Python 3.9.13 ('mlops_bootcamp_env')",
   "language": "python",
   "name": "python3"
  },
  "language_info": {
   "codemirror_mode": {
    "name": "ipython",
    "version": 3
   },
   "file_extension": ".py",
   "mimetype": "text/x-python",
   "name": "python",
   "nbconvert_exporter": "python",
   "pygments_lexer": "ipython3",
   "version": "3.9.13"
  },
  "vscode": {
   "interpreter": {
    "hash": "a6ebbf5b3321ef5f103965d0d09ba8454b5052551113b1770cb3183594cae0ea"
   }
  }
 },
 "nbformat": 4,
 "nbformat_minor": 5
}
