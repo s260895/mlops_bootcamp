{
 "cells": [
  {
   "cell_type": "code",
   "execution_count": 1,
   "metadata": {},
   "outputs": [
    {
     "name": "stdout",
     "output_type": "stream",
     "text": [
      "Python 3.9.13\n"
     ]
    }
   ],
   "source": [
    "!python -V"
   ]
  },
  {
   "cell_type": "code",
   "execution_count": 2,
   "metadata": {},
   "outputs": [],
   "source": [
    "# data manipulation and storage\n",
    "import pandas as pd\n",
    "\n",
    "# plotting and graphs\n",
    "import seaborn as sns\n",
    "import matplotlib.pyplot as plt\n",
    "\n",
    "# data preprocessing\n",
    "from sklearn.feature_extraction import DictVectorizer\n",
    "from sklearn.preprocessing import StandardScaler\n",
    "\n",
    "# models\n",
    "from sklearn.linear_model import LinearRegression\n",
    "from sklearn.linear_model import Lasso\n",
    "from sklearn.linear_model import Ridge\n",
    "\n",
    "# model performance metrics\n",
    "from sklearn.metrics import mean_squared_error\n",
    "\n",
    "# saving model to file\n",
    "import pickle\n"
   ]
  },
  {
   "cell_type": "code",
   "execution_count": 3,
   "metadata": {},
   "outputs": [],
   "source": [
    "df_train = pd.read_parquet('./data/train_data.parquet')\n",
    "df_val = pd.read_parquet('./data/validation_data.parquet')"
   ]
  },
  {
   "cell_type": "code",
   "execution_count": 4,
   "metadata": {},
   "outputs": [],
   "source": [
    "categorical = ['PU_DO_pair']\n",
    "# ['PULocationID','DOLocationID']\n",
    "numerical = ['trip_distance','fare_amount']\n",
    "target = 'duration'\n",
    "# Pre Processing - Numerical\n",
    "scaler = StandardScaler()\n",
    "df_train[numerical] = scaler.fit_transform(df_train[numerical])\n",
    "df_val[numerical] = scaler.transform(df_val[numerical])\n",
    "train_dicts = df_train[categorical+numerical].to_dict(orient='records')\n",
    "val_dicts = df_val[categorical+numerical].to_dict(orient='records')\n",
    "# Pre Processing - Categorical\n",
    "df_train[categorical] = df_train[categorical].astype(str)\n",
    "df_val[categorical] = df_val[categorical].astype(str)\n",
    "dv = DictVectorizer()\n",
    "X_train = dv.fit_transform(train_dicts)\n",
    "y_train = df_train[target].values\n",
    "X_val = dv.transform(val_dicts)\n",
    "y_val = df_val[target].values"
   ]
  },
  {
   "cell_type": "code",
   "execution_count": 5,
   "metadata": {},
   "outputs": [],
   "source": [
    "# Fit Linear Regression Model and save fitted model under /models folders\n",
    "linear_model = LinearRegression()\n",
    "linear_model.fit(X_train,y_train)\n",
    "y_pred_linear = linear_model.predict(X_val)\n",
    "mean_squared_error(y_val,y_pred_linear,squared=False)\n",
    "with open('models/linear_model.bin','wb') as f_out:\n",
    "    pickle.dump((scaler,dv,linear_model),f_out)"
   ]
  },
  {
   "cell_type": "code",
   "execution_count": 6,
   "metadata": {},
   "outputs": [],
   "source": [
    "# Fit Ridge Regression Model and save fitted model under /models folders\n",
    "ridge_model = Ridge(alpha=0.0001)\n",
    "ridge_model.fit(X_train,y_train)\n",
    "y_pred_ridge = ridge_model.predict(X_val)\n",
    "mean_squared_error(y_val,y_pred_ridge,squared=False)\n",
    "with open('models/ridge_model.bin','wb') as f_out:\n",
    "    pickle.dump((scaler,dv,ridge_model),f_out)"
   ]
  },
  {
   "cell_type": "code",
   "execution_count": 7,
   "metadata": {},
   "outputs": [],
   "source": [
    "# Fit Lasso Regression Model and save fitted model under /models folders\n",
    "lasso_model = Lasso(alpha=0.0001)\n",
    "lasso_model.fit(X_train,y_train)\n",
    "y_pred_lasso = lasso_model.predict(X_val)\n",
    "mean_squared_error(y_val,y_pred_lasso,squared=False)\n",
    "with open('models/lasso_model.bin','wb') as f_out:\n",
    "    pickle.dump((scaler,dv,lasso_model),f_out)"
   ]
  },
  {
   "cell_type": "code",
   "execution_count": null,
   "metadata": {},
   "outputs": [],
   "source": []
  }
 ],
 "metadata": {
  "kernelspec": {
   "display_name": "mlops_bootcamp_env",
   "language": "python",
   "name": "python3"
  },
  "language_info": {
   "codemirror_mode": {
    "name": "ipython",
    "version": 3
   },
   "file_extension": ".py",
   "mimetype": "text/x-python",
   "name": "python",
   "nbconvert_exporter": "python",
   "pygments_lexer": "ipython3",
   "version": "3.9.13"
  },
  "orig_nbformat": 4,
  "vscode": {
   "interpreter": {
    "hash": "ace04144321c419ba8ecb4b8a46fd516f2cc21242eec6d03b20ff39e2c0b2815"
   }
  }
 },
 "nbformat": 4,
 "nbformat_minor": 2
}
