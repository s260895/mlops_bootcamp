{
 "cells": [
  {
   "cell_type": "code",
   "execution_count": 1,
   "metadata": {},
   "outputs": [
    {
     "name": "stderr",
     "output_type": "stream",
     "text": [
      "Intel(R) Extension for Scikit-learn* enabled (https://github.com/intel/scikit-learn-intelex)\n"
     ]
    }
   ],
   "source": [
    "# data manipulation and storage\n",
    "import pandas as pd\n",
    "\n",
    "# plotting and graphs\n",
    "import seaborn as sns\n",
    "import matplotlib.pyplot as plt\n",
    "\n",
    "# data preprocessing\n",
    "# from sklearn.feature_extraction import DictVectorizer\n",
    "from sklearn.preprocessing import StandardScaler\n",
    "from sklearn.impute import SimpleImputer\n",
    "from sklearn.preprocessing import OneHotEncoder\n",
    "\n",
    "# models\n",
    "# from sklearn.linear_model import LinearRegression\n",
    "# from sklearn.linear_model import Lasso\n",
    "# from sklearn.linear_model import Ridge\n",
    "# import xgboost as xgb\n",
    "from sklearn.ensemble import GradientBoostingRegressor\n",
    "\n",
    "# model performance metrics\n",
    "from sklearn.metrics import mean_squared_error\n",
    "\n",
    "# saving model to file\n",
    "import pickle\n",
    "\n",
    "# mlflow for experiment tracking\n",
    "import mlflow\n",
    "\n",
    "# hyper-parameter optimization\n",
    "from hyperopt import fmin, tpe, hp, STATUS_OK, Trials\n",
    "from hyperopt.pyll import scope\n",
    "\n",
    "# sklearn pipeline creation\n",
    "from sklearn.base import BaseEstimator, TransformerMixin\n",
    "from sklearn.utils.validation import check_is_fitted\n",
    "\n",
    "from sklearn.pipeline import Pipeline\n",
    "from sklearn.compose import ColumnTransformer\n",
    "\n",
    "# misc utilities\n",
    "import copy\n",
    "\n",
    "# intel sklearn optimization library\n",
    "from sklearnex import patch_sklearn\n",
    "patch_sklearn()\n",
    "\n",
    "def cleaned_train_and_target(df,clean=True):\n",
    "    \n",
    "    # create concatenated categorical feature\n",
    "    df['PU_DO_pair'] = df['PULocationID'].astype(str) + '_' + df['DOLocationID'].astype(str)                \n",
    "    # create target feature\n",
    "    df['duration'] = df['lpep_dropoff_datetime'] - df['lpep_pickup_datetime']\n",
    "    df['duration'] = df['duration'].apply(lambda td: td.total_seconds()/60)\n",
    "\n",
    "    if clean == True:\n",
    "        # filter out rows based on various conditions\n",
    "        df = df[(df['duration'] >= 1) & (df['duration'] <= 60)]\n",
    "        df = df[(df['trip_distance'] > 1)&(df['trip_distance'] < 25)]\n",
    "        df = df[(df['total_amount'] > 1)&(df['total_amount'] < 150)]\n",
    "        df = df[df['passenger_count'] > 0]  \n",
    " \n",
    "    y = df['duration']\n",
    "    X = df[['PU_DO_pair','trip_distance','fare_amount']]\n",
    "    return X,y\n",
    "\n",
    "numeric_pipeline = Pipeline(steps=[\n",
    "    ('impute', SimpleImputer(strategy='mean')),\n",
    "    ('scale', StandardScaler())\n",
    "])\n",
    "categorical_pipeline = Pipeline(steps=[\n",
    "    ('impute', SimpleImputer(strategy='most_frequent')),\n",
    "    ('one-hot', OneHotEncoder(handle_unknown='ignore', sparse=False))\n",
    "])\n",
    "\n",
    "categorical = ['PU_DO_pair']\n",
    "numerical = ['trip_distance','fare_amount']\n",
    "target = ['duration']\n",
    "\n",
    "preprocessor_pipeline = ColumnTransformer(transformers=[\n",
    "    ('numeric', numeric_pipeline, numerical),\n",
    "    ('categoric', categorical_pipeline, categorical)\n",
    "])\n",
    "\n",
    "gradientboost_regressor = GradientBoostingRegressor()\n",
    "# linear_regressor = \n",
    "\n",
    "\n",
    "regression_model = Pipeline(steps=[\n",
    "    ('preprocess', preprocessor_pipeline),\n",
    "    ('model', gradientboost_regressor)\n",
    "])\n"
   ]
  },
  {
   "cell_type": "code",
   "execution_count": 2,
   "metadata": {},
   "outputs": [],
   "source": [
    "train_path = 'data/green_tripdata_2021-01.parquet'\n",
    "val_path = 'data/green_tripdata_2021-01.parquet'\n",
    "df_train = pd.read_parquet(train_path)\n",
    "df_val = pd.read_parquet(val_path)\n",
    "X_train,y_train = cleaned_train_and_target(df_train,clean=True)\n",
    "X_val, y_val = cleaned_train_and_target(df_val,clean=True)"
   ]
  },
  {
   "cell_type": "code",
   "execution_count": 3,
   "metadata": {},
   "outputs": [
    {
     "data": {
      "text/plain": [
       "Pipeline(steps=[('preprocess',\n",
       "                 ColumnTransformer(transformers=[('numeric',\n",
       "                                                  Pipeline(steps=[('impute',\n",
       "                                                                   SimpleImputer()),\n",
       "                                                                  ('scale',\n",
       "                                                                   StandardScaler())]),\n",
       "                                                  ['trip_distance',\n",
       "                                                   'fare_amount']),\n",
       "                                                 ('categoric',\n",
       "                                                  Pipeline(steps=[('impute',\n",
       "                                                                   SimpleImputer(strategy='most_frequent')),\n",
       "                                                                  ('one-hot',\n",
       "                                                                   OneHotEncoder(handle_unknown='ignore',\n",
       "                                                                                 sparse=False))]),\n",
       "                                                  ['PU_DO_pair'])])),\n",
       "                ('model', GradientBoostingRegressor())])"
      ]
     },
     "execution_count": 3,
     "metadata": {},
     "output_type": "execute_result"
    }
   ],
   "source": [
    "regression_model.fit(X_train,y_train)"
   ]
  },
  {
   "cell_type": "code",
   "execution_count": 4,
   "metadata": {},
   "outputs": [
    {
     "data": {
      "text/plain": [
       "58.841718290811556"
      ]
     },
     "execution_count": 4,
     "metadata": {},
     "output_type": "execute_result"
    }
   ],
   "source": [
    "y_pred_linear = regression_model.predict(X_val)\n",
    "mean_squared_error(y_val,y_pred_linear,squared=False)\n"
   ]
  },
  {
   "cell_type": "code",
   "execution_count": null,
   "metadata": {},
   "outputs": [],
   "source": []
  }
 ],
 "metadata": {
  "kernelspec": {
   "display_name": "mlops_bootcamp_env",
   "language": "python",
   "name": "python3"
  },
  "language_info": {
   "codemirror_mode": {
    "name": "ipython",
    "version": 3
   },
   "file_extension": ".py",
   "mimetype": "text/x-python",
   "name": "python",
   "nbconvert_exporter": "python",
   "pygments_lexer": "ipython3",
   "version": "3.9.13"
  },
  "orig_nbformat": 4,
  "vscode": {
   "interpreter": {
    "hash": "ace04144321c419ba8ecb4b8a46fd516f2cc21242eec6d03b20ff39e2c0b2815"
   }
  }
 },
 "nbformat": 4,
 "nbformat_minor": 2
}
