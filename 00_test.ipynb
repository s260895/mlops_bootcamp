{
 "cells": [
  {
   "cell_type": "code",
   "execution_count": 1,
   "metadata": {},
   "outputs": [
    {
     "name": "stderr",
     "output_type": "stream",
     "text": [
      "Intel(R) Extension for Scikit-learn* enabled (https://github.com/intel/scikit-learn-intelex)\n"
     ]
    }
   ],
   "source": [
    "# data manipulation and storage\n",
    "import pandas as pd\n",
    "import numpy as np\n",
    "\n",
    "# plotting and graphs\n",
    "import seaborn as sns\n",
    "import matplotlib.pyplot as plt\n",
    "\n",
    "# data preprocessing\n",
    "# from sklearn.feature_extraction import DictVectorizer\n",
    "from sklearn.preprocessing import StandardScaler\n",
    "from sklearn.impute import SimpleImputer\n",
    "from sklearn.preprocessing import OneHotEncoder\n",
    "\n",
    "# models\n",
    "# from sklearn.linear_model import LinearRegression\n",
    "# from sklearn.linear_model import Lasso\n",
    "# from sklearn.linear_model import Ridge\n",
    "# import xgboost as xgb\n",
    "from sklearn.ensemble import GradientBoostingRegressor\n",
    "\n",
    "# model performance metrics\n",
    "from sklearn.metrics import mean_squared_error\n",
    "\n",
    "# saving model to file\n",
    "import pickle\n",
    "\n",
    "# mlflow for experiment tracking\n",
    "import mlflow\n",
    "\n",
    "# hyper-parameter optimization\n",
    "from hyperopt import fmin, tpe, hp, STATUS_OK, Trials\n",
    "from hyperopt.pyll import scope\n",
    "\n",
    "# sklearn pipeline creation\n",
    "from sklearn.base import BaseEstimator, TransformerMixin\n",
    "from sklearn.utils.validation import check_is_fitted\n",
    "\n",
    "from sklearn.pipeline import Pipeline\n",
    "from sklearn.compose import ColumnTransformer\n",
    "\n",
    "# misc utilities\n",
    "import copy\n",
    "\n",
    "# intel sklearn optimization library\n",
    "from sklearnex import patch_sklearn\n",
    "patch_sklearn()\n",
    "\n"
   ]
  },
  {
   "cell_type": "code",
   "execution_count": 2,
   "metadata": {},
   "outputs": [],
   "source": [
    "def cleaned_train_and_target(df,clean=True):\n",
    "    \n",
    "    # create concatenated categorical feature\n",
    "    df['PU_DO_pair'] = df['PULocationID'].astype(str) + '_' + df['DOLocationID'].astype(str)                \n",
    "    # create target feature\n",
    "    df['duration'] = df['lpep_dropoff_datetime'] - df['lpep_pickup_datetime']\n",
    "    df['duration'] = df['duration'].apply(lambda td: td.total_seconds()/60)\n",
    "\n",
    "    if clean == True:\n",
    "        # filter out rows based on various conditions\n",
    "        df = df[(df['duration'] >= 1) & (df['duration'] <= 60)]\n",
    "        df = df[(df['trip_distance'] > 1)&(df['trip_distance'] < 25)]\n",
    "        df = df[(df['total_amount'] > 1)&(df['total_amount'] < 150)]\n",
    "        df = df[df['passenger_count'] > 0]  \n",
    " \n",
    "    y = df['duration']\n",
    "    X = df[['PU_DO_pair','trip_distance','fare_amount']]\n",
    "    return X,y\n"
   ]
  },
  {
   "cell_type": "code",
   "execution_count": 3,
   "metadata": {},
   "outputs": [],
   "source": [
    "def initialize_regression_model(params,type='gradientbooster'):\n",
    "\n",
    "    categorical = ['PU_DO_pair']\n",
    "    numerical = ['trip_distance','fare_amount']\n",
    "\n",
    "    numeric_pipeline = Pipeline(steps=[\n",
    "        ('impute', SimpleImputer(strategy='mean')),\n",
    "        ('scale', StandardScaler())\n",
    "    ])\n",
    "    categorical_pipeline = Pipeline(steps=[\n",
    "        ('impute', SimpleImputer(strategy='most_frequent')),\n",
    "        ('one-hot', OneHotEncoder(handle_unknown='ignore', sparse=False))\n",
    "    ])\n",
    "\n",
    "\n",
    "    preprocessor_pipeline = ColumnTransformer(transformers=[\n",
    "        ('numeric', numeric_pipeline, numerical),\n",
    "        ('categoric', categorical_pipeline, categorical)\n",
    "    ])\n",
    "\n",
    "    if type == 'gradientbooster':\n",
    "        regressor = GradientBoostingRegressor(**params)\n",
    "    else:\n",
    "        regressor = None\n",
    "\n",
    "    regression_model = Pipeline(steps=[\n",
    "        ('preprocess', preprocessor_pipeline),\n",
    "        ('model', regressor)\n",
    "    ])\n",
    "\n",
    "    return regression_model\n"
   ]
  },
  {
   "cell_type": "code",
   "execution_count": 4,
   "metadata": {},
   "outputs": [],
   "source": [
    "def hyperparameter_optimizer(\n",
    "    X_train,\n",
    "    y_train,\n",
    "    X_val,\n",
    "    y_val\n",
    "):\n",
    "\n",
    "    # define hyper-parameter search space\n",
    "    search_space = {\n",
    "        'n_estimators':hp.choice('n_estimators',np.arange(101,201,5)),\n",
    "        'learning_rate':hp.loguniform('learning_rate',-3,1),\n",
    "        'min_samples_split':hp.loguniform('min_child_weight',-4,0),\n",
    "        'max_depth':scope.int(hp.quniform('max_depth',5,100,5)),        \n",
    "        'random_state':42\n",
    "    }\n",
    "\n",
    "    # define objective function\n",
    "    def objective(params):\n",
    "        \n",
    "        with mlflow.start_run():\n",
    "            mlflow.set_tag('model','gradientboostingregressor')\n",
    "            # mlflow.log_params(params)\n",
    "            mlflow.sklearn.autolog()\n",
    "            pipe = initialize_regression_model(params=params,type='gradientbooster')\n",
    "            pipe.fit(X_train,y_train)\n",
    "            y_pred = pipe.predict(X_val)\n",
    "            rmse = mean_squared_error(y_val,y_pred,squared=False)\n",
    "            # mlflow.log_metric('rmse',rmse)\n",
    "            # mlflow.log_artifact(scaler_path,artifact_path=\"preprocessor\")\n",
    "            # mlflow.log_artifact(vectorizer_path,artifact_path=\"preprocessor\")\n",
    "            # mlflow.xgboost.log_model(xgb_model,artifact_path=\"models_mlflow\")\n",
    "        \n",
    "\n",
    "        return {'loss':rmse,'status':STATUS_OK}\n",
    "\n",
    "\n",
    "    # Perform hyper-parameter optimization\n",
    "    best_result = fmin(\n",
    "        fn = objective,\n",
    "        space = search_space,\n",
    "        algo = tpe.suggest,\n",
    "        max_evals=2,\n",
    "        trials = Trials()\n",
    "    )   \n",
    "\n",
    "    return "
   ]
  },
  {
   "cell_type": "code",
   "execution_count": 5,
   "metadata": {},
   "outputs": [
    {
     "name": "stdout",
     "output_type": "stream",
     "text": [
      "  0%|          | 0/2 [00:00<?, ?trial/s, best loss=?]"
     ]
    },
    {
     "name": "stderr",
     "output_type": "stream",
     "text": [
      "2022/10/21 17:57:05 WARNING mlflow.utils: Truncated the value of the key `steps`. Truncated value: `[('preprocess', ColumnTransformer(transformers=[('numeric',\n",
      "                                 Pipeline(steps=[('impute', SimpleImputer()),\n",
      "                                                 ('scale', StandardScaler())]),\n",
      "                                 ['trip_distance', 'fare_amount']),\n",
      "                                ('categoric',\n",
      "                                 Pipeline(steps=[('impute',\n",
      "                                                  SimpleImputer(strategy='most_frequent')),\n",
      "             ...`\n",
      "\n",
      "2022/10/21 17:57:05 WARNING mlflow.utils: Truncated the value of the key `preprocess`. Truncated value: `ColumnTransformer(transformers=[('numeric',\n",
      "                                 Pipeline(steps=[('impute', SimpleImputer()),\n",
      "                                                 ('scale', StandardScaler())]),\n",
      "                                 ['trip_distance', 'fare_amount']),\n",
      "                                ('categoric',\n",
      "                                 Pipeline(steps=[('impute',\n",
      "                                                  SimpleImputer(strategy='most_frequent')),\n",
      "                             ...`\n",
      "\n",
      "2022/10/21 18:25:10 WARNING mlflow.utils.autologging_utils: MLflow autologging encountered a warning: \"/home/mlops/anaconda3/envs/mlops_bootcamp_env/lib/python3.9/site-packages/_distutils_hack/__init__.py:33: UserWarning: Setuptools is replacing distutils.\"\n",
      "\n"
     ]
    },
    {
     "name": "stdout",
     "output_type": "stream",
     "text": [
      " 50%|█████     | 1/2 [28:10<28:10, 1690.53s/trial, best loss: 2.1385302500705596]"
     ]
    },
    {
     "name": "stderr",
     "output_type": "stream",
     "text": [
      "2022/10/21 18:25:15 WARNING mlflow.utils: Truncated the value of the key `steps`. Truncated value: `[('preprocess', ColumnTransformer(transformers=[('numeric',\n",
      "                                 Pipeline(steps=[('impute', SimpleImputer()),\n",
      "                                                 ('scale', StandardScaler())]),\n",
      "                                 ['trip_distance', 'fare_amount']),\n",
      "                                ('categoric',\n",
      "                                 Pipeline(steps=[('impute',\n",
      "                                                  SimpleImputer(strategy='most_frequent')),\n",
      "             ...`\n",
      "\n",
      "2022/10/21 18:25:15 WARNING mlflow.utils: Truncated the value of the key `preprocess`. Truncated value: `ColumnTransformer(transformers=[('numeric',\n",
      "                                 Pipeline(steps=[('impute', SimpleImputer()),\n",
      "                                                 ('scale', StandardScaler())]),\n",
      "                                 ['trip_distance', 'fare_amount']),\n",
      "                                ('categoric',\n",
      "                                 Pipeline(steps=[('impute',\n",
      "                                                  SimpleImputer(strategy='most_frequent')),\n",
      "                             ...`\n",
      "\n"
     ]
    },
    {
     "name": "stdout",
     "output_type": "stream",
     "text": [
      "100%|██████████| 2/2 [42:31<00:00, 1275.81s/trial, best loss: 2.1385302500705596]\n"
     ]
    }
   ],
   "source": [
    "def main(\n",
    "    train_path = 'data/green_tripdata_2021-01.parquet',\n",
    "    val_path = 'data/green_tripdata_2021-01.parquet',\n",
    "    tracking_uri = 'sqlite:///mlflow.db',\n",
    "    experiment = 'test-experiment'\n",
    "):\n",
    "    mlflow.set_tracking_uri(tracking_uri)\n",
    "    mlflow.set_experiment(experiment)\n",
    "    train_path = 'data/green_tripdata_2021-01.parquet'\n",
    "    val_path = 'data/green_tripdata_2021-01.parquet'\n",
    "    df_train = pd.read_parquet(train_path)\n",
    "    df_val = pd.read_parquet(val_path)\n",
    "    X_train,y_train = cleaned_train_and_target(df_train,clean=True)\n",
    "    X_val, y_val = cleaned_train_and_target(df_val,clean=True)\n",
    "    hyperparameter_optimizer(X_train,y_train,X_val,y_val)\n",
    "    # train_best_model(train,valid,y_val,dv,scaler)\n",
    "\n",
    "main()"
   ]
  },
  {
   "cell_type": "code",
   "execution_count": null,
   "metadata": {},
   "outputs": [],
   "source": []
  }
 ],
 "metadata": {
  "kernelspec": {
   "display_name": "mlops_bootcamp_env",
   "language": "python",
   "name": "python3"
  },
  "language_info": {
   "codemirror_mode": {
    "name": "ipython",
    "version": 3
   },
   "file_extension": ".py",
   "mimetype": "text/x-python",
   "name": "python",
   "nbconvert_exporter": "python",
   "pygments_lexer": "ipython3",
   "version": "3.9.13"
  },
  "orig_nbformat": 4,
  "vscode": {
   "interpreter": {
    "hash": "ace04144321c419ba8ecb4b8a46fd516f2cc21242eec6d03b20ff39e2c0b2815"
   }
  }
 },
 "nbformat": 4,
 "nbformat_minor": 2
}
